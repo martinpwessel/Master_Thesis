{
 "cells": [
  {
   "cell_type": "code",
   "execution_count": null,
   "id": "6ff6e453",
   "metadata": {},
   "outputs": [],
   "source": [
    "import MBWrapper\n",
    "import wandb"
   ]
  },
  {
   "cell_type": "code",
   "execution_count": null,
   "id": "1db41e55",
   "metadata": {},
   "outputs": [],
   "source": [
    "wrapper = MBWrapper.MBWrapper(5, 5, \"electra\", gpu=0, batch_size=512, model_length=34)"
   ]
  },
  {
   "cell_type": "code",
   "execution_count": null,
   "id": "39a557ce",
   "metadata": {},
   "outputs": [],
   "source": [
    "result = wrapper.main()"
   ]
  }
 ],
 "metadata": {
  "kernelspec": {
   "display_name": "Python 3.9.5",
   "language": "python",
   "name": "conda-python-3.9.5"
  }
 },
 "nbformat": 4,
 "nbformat_minor": 5
}
