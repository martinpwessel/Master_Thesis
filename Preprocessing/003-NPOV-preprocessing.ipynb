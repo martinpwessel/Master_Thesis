{
 "cells": [
  {
   "cell_type": "markdown",
   "metadata": {},
   "source": [
    "**NPOV Dataset**\n",
    "\n",
    "Dataset from https://github.com/ChristophHubeL3S/Neural_Based_Statement_Classification_for_Biased_Language_WSDM2019\n",
    "Description from the paper as to what each file contains:\n",
    "\"CW-Hard: This dataset consists of only the crowdsourced statements that we described in Section 3. The dataset consists of 1843 statements marked as “biased” and 3109 marked as “neutral”.\n",
    "\"Featured: To extract “neutral” statements of high quality, we turn back to statements extracted from featured articles in Wikipedia10. Featured articles are more likely to be neutral when compared to statements from random articles of varying quality.\"\n",
    "\"Type–Balanced: Statements we extract in Section 3 are from a wide range of types of articles. Depending on their type (i.e. the Wikipedia categories an article belongs to or the type from a reference knowledge base), the statements therein will vary in their language genre and linguistic structure due to the difference from articles about persons in their genre and topical focus in the respective articles.\"\n",
    "\n",
    "```\n",
    "LABEL:\n",
    "0: NON-BASED\n",
    "1: BIASED\n",
    "```"
   ]
  },
  {
   "cell_type": "code",
   "execution_count": 10,
   "metadata": {},
   "outputs": [],
   "source": [
    "import os\n",
    "import sys\n",
    "import pandas as pd\n",
    "from prep_collection import PrepCollection as prep"
   ]
  },
  {
   "cell_type": "code",
   "execution_count": 11,
   "metadata": {
    "pycharm": {
     "name": "#%%\n"
    }
   },
   "outputs": [
    {
     "data": {
      "text/plain": [
       "['statements_biased',\n",
       " 'statements_neutral_type_balanced',\n",
       " 'statements_neutral_featured',\n",
       " 'statements_neutral_cw-hard']"
      ]
     },
     "execution_count": 11,
     "metadata": {},
     "output_type": "execute_result"
    }
   ],
   "source": [
    "wdr_path = os.path.dirname(os.path.dirname(os.getcwd()))\n",
    "ds_raw_path = os.path.join(wdr_path + \"/Datasets/Linguistic Bias/Neural_Based_Statement_Classification_for_Biased_Language_WSDM2019\")\n",
    "files = os.listdir(ds_raw_path)\n",
    "files"
   ]
  },
  {
   "cell_type": "code",
   "execution_count": 12,
   "metadata": {
    "pycharm": {
     "name": "#%%\n"
    }
   },
   "outputs": [],
   "source": [
    "def NPOV_preprocessing(ds_raw_path, wdr_path, files):\n",
    "    '''\n",
    "    Iterates over all four files, labels them according to the file label, simple preprocessing and saves to csv.\n",
    "    :param ds_raw_path:\n",
    "    :param wdr_path:\n",
    "    :param files:\n",
    "    :return:\n",
    "    '''\n",
    "    ds_lst = []\n",
    "    id = 0\n",
    "    for i in files:\n",
    "        with open(os.path.join(ds_raw_path + '/' + i), errors= 'replace') as f:\n",
    "            file = f.readlines()\n",
    "        if 'biased' in i:\n",
    "            label = 1\n",
    "        else:\n",
    "            label = 0\n",
    "\n",
    "        for j in file:\n",
    "            row = [id, prep.prepare_text(j), label]\n",
    "            ds_lst.append(row)\n",
    "            id += 1\n",
    "    df = pd.DataFrame(ds_lst, columns= ['id', 'text', 'label'])\n",
    "    df.to_csv(os.path.join(wdr_path + \"/Preprocessed_Datasets/003-NPOV.csv\"))"
   ]
  },
  {
   "cell_type": "code",
   "execution_count": 13,
   "metadata": {
    "pycharm": {
     "name": "#%%\n"
    }
   },
   "outputs": [],
   "source": [
    "NPOV_preprocessing(ds_raw_path, wdr_path, files)"
   ]
  },
  {
   "cell_type": "code",
   "execution_count": null,
   "metadata": {},
   "outputs": [],
   "source": []
  }
 ],
 "metadata": {
  "kernelspec": {
   "display_name": "Python 3 (ipykernel)",
   "language": "python",
   "name": "python3"
  },
  "language_info": {
   "codemirror_mode": {
    "name": "ipython",
    "version": 3
   },
   "file_extension": ".py",
   "mimetype": "text/x-python",
   "name": "python",
   "nbconvert_exporter": "python",
   "pygments_lexer": "ipython3",
   "version": "3.10.8"
  }
 },
 "nbformat": 4,
 "nbformat_minor": 1
}
