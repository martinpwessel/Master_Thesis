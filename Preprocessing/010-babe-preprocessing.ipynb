{
 "cells": [
  {
   "cell_type": "markdown",
   "metadata": {},
   "source": [
    "**Babe Dataset**\n",
    "\n",
    "Datasource: https://www.kaggle.com/datasets/timospinde/babe-media-bias-annotations-by-experts\n",
    "Took as a source both SG1 and SG2 subgroups and combined them.\n",
    "\n",
    "LABEL:\n",
    "2 - NO AGREEMENT\n",
    "1 - BIASED\n",
    "0 - NON-BIASED"
   ]
  },
  {
   "cell_type": "code",
   "execution_count": 1,
   "metadata": {},
   "outputs": [],
   "source": [
    "import os\n",
    "import sys\n",
    "import pandas as pd\n",
    "from prep_collection import PrepCollection as prep"
   ]
  },
  {
   "cell_type": "code",
   "execution_count": 2,
   "metadata": {
    "pycharm": {
     "name": "#%%\n"
    }
   },
   "outputs": [],
   "source": [
    "wdr_path = os.path.dirname(os.path.dirname(os.getcwd()))\n",
    "ds_sg1_path = os.path.join(wdr_path + \"/Datasets/Linguistic Bias/Babe/final_labels_SG1.xlsx\")\n",
    "ds_sg2_path = os.path.join(wdr_path + \"/Datasets/Linguistic Bias/Babe/final_labels_SG2.xlsx\")"
   ]
  },
  {
   "cell_type": "code",
   "execution_count": 3,
   "metadata": {
    "pycharm": {
     "name": "#%%\n"
    }
   },
   "outputs": [],
   "source": [
    "def babe_preprocessing(wdr_path, ds_sg2_path):\n",
    "    #df_sg1 = pd.read_excel(ds_sg1_path)\n",
    "    df_original = pd.read_excel(ds_sg2_path)\n",
    "    df = pd.DataFrame()\n",
    "    df['text'] = df_original['text'].apply(lambda x: prep.prepare_text(x))\n",
    "    df['label'] = df_original['label_bias']\n",
    "    df.loc[df['label'] == 'Biased', 'label'] = 1\n",
    "    df.loc[df['label'] == 'Non-biased', 'label'] = 0\n",
    "    df.loc[df['label'] == 'No agreement', 'label'] = 2\n",
    "    df['id'] = df.index\n",
    "    df.to_csv(os.path.join(wdr_path + \"/Preprocessed_Datasets/010-babe.csv\"))"
   ]
  },
  {
   "cell_type": "code",
   "execution_count": 4,
   "metadata": {
    "pycharm": {
     "name": "#%%\n"
    }
   },
   "outputs": [],
   "source": [
    "babe_preprocessing(wdr_path,ds_sg2_path)"
   ]
  },
  {
   "cell_type": "code",
   "execution_count": null,
   "metadata": {},
   "outputs": [],
   "source": []
  }
 ],
 "metadata": {
  "kernelspec": {
   "display_name": "Python 3 (ipykernel)",
   "language": "python",
   "name": "python3"
  },
  "language_info": {
   "codemirror_mode": {
    "name": "ipython",
    "version": 3
   },
   "file_extension": ".py",
   "mimetype": "text/x-python",
   "name": "python",
   "nbconvert_exporter": "python",
   "pygments_lexer": "ipython3",
   "version": "3.10.8"
  }
 },
 "nbformat": 4,
 "nbformat_minor": 1
}
