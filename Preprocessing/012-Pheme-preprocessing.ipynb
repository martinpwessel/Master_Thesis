{
 "cells": [
  {
   "cell_type": "markdown",
   "metadata": {},
   "source": [
    "**Pheme Dataset**\n",
    "\n",
    "5222 Tweets.\n",
    "The Pheme Dataset used (from https://figshare.com/articles/dataset/PHEME_dataset_for_Rumour_Detection_and_Veracity_Classification/6392078), is used for rumour detection, veracity classification and stance detection. For stance there were no labels for Pheme that I could find. That's why only rumour and veracity are included. While rumour and non-rumour were straightforward the veracity value wasn't always given for rumours ('unverified') and never for non-rumours (assumed true). There is a lot of additional data given for each tweet, like meta-data or reactions. That is left out here.\n",
    "\n",
    "\n",
    "```\n",
    "LABEL:\n",
    "TRUE - 0\n",
    "FALSE ('Fakenews') - 1\n",
    "UNVERIFIED - 2\n",
    "```\n",
    "```\n",
    "RUMOUR\n",
    "'non-rumour'- 0\n",
    "'rumours' - 1\n",
    "```"
   ]
  },
  {
   "cell_type": "code",
   "execution_count": 6,
   "metadata": {},
   "outputs": [],
   "source": [
    "import os\n",
    "import sys\n",
    "import pandas as pd\n",
    "from prep_collection import PrepCollection as prep\n",
    "import numpy as np\n",
    "import json\n",
    "from tweetLoader import TweetLoader"
   ]
  },
  {
   "cell_type": "code",
   "execution_count": 7,
   "metadata": {
    "pycharm": {
     "name": "#%%\n"
    }
   },
   "outputs": [],
   "source": [
    "wdr_path = os.path.dirname(os.path.dirname(os.getcwd()))\n",
    "ds_raw_path = os.path.join(wdr_path + \"/Datasets/Fake News/all-rnr-annotated-threads\")"
   ]
  },
  {
   "cell_type": "code",
   "execution_count": 8,
   "metadata": {
    "pycharm": {
     "name": "#%%\n"
    }
   },
   "outputs": [],
   "source": [
    "def preprocess_pheme(wdr_path, ds_raw_path):\n",
    "    df = pd.DataFrame(columns= ['tweetID', 'text', 'label', 'rumour'])\n",
    "    tweet = TweetLoader()\n",
    "    topics = [ele for ele in os.listdir(ds_raw_path) if '.' not in ele]\n",
    "\n",
    "    # Non-rumours\n",
    "\n",
    "    for topic in topics:\n",
    "        articles_nr = [ele for ele in os.listdir(os.path.join(ds_raw_path, topic, 'non-rumours')) if '.' not in ele] # List of all non-roumor articles\n",
    "        tweets_non_rumour = tweet.fetch_list(articles_nr) # pandas Dataframe, used Tomasz's class\n",
    "        tweets_non_rumour['label'] = 0 # since there are no veracity labels for non-rumours, assumed to be true\n",
    "        tweets_non_rumour['rumour'] = 0\n",
    "        df = pd.concat([df, tweets_non_rumour])\n",
    "\n",
    "        # rumours\n",
    "        articles_r = [ele for ele in os.listdir(os.path.join(ds_raw_path, topic, 'rumours')) if '.' not in ele]\n",
    "        tweets_rumour = tweet.fetch_list(articles_r)\n",
    "        # to get the labels the annotation.json need to be parsed:\n",
    "        label = []\n",
    "        for article in tweets_rumour.loc[:]['tweetID']:\n",
    "            with open(os.path.join(ds_raw_path, topic, 'rumours', str(article), 'annotation.json'), 'r') as f:\n",
    "                annotation = json.load(f)\n",
    "            try:\n",
    "                veracity = annotation['true']\n",
    "                if veracity == 0 or veracity == str(0):\n",
    "                    label.append(1)\n",
    "                elif veracity == 1 or veracity == str(1):\n",
    "                    label.append(0)\n",
    "                else:\n",
    "                    print(annotation)\n",
    "                    raise ValueError\n",
    "            except KeyError: # If the truth is undecided\n",
    "                label.append(2)\n",
    "        tweets_rumour['label'] = label\n",
    "        tweets_rumour['rumour'] = 1\n",
    "        df = pd.concat([df, tweets_rumour])\n",
    "    df['text'] = df['text'].apply(prep.prepare_text)\n",
    "    df.to_csv(os.path.join(wdr_path + \"/Preprocessed_Datasets/012-Pheme.csv\"))\n",
    "    return df"
   ]
  },
  {
   "cell_type": "code",
   "execution_count": 9,
   "metadata": {
    "pycharm": {
     "name": "#%%\n"
    }
   },
   "outputs": [
    {
     "data": {
      "application/vnd.jupyter.widget-view+json": {
       "model_id": "1d00c27f0a7c4455aa0045991b03e57c",
       "version_major": 2,
       "version_minor": 0
      },
      "text/plain": [
       "  0%|          | 0/0.77 [00:00<?, ?it/s]"
      ]
     },
     "metadata": {},
     "output_type": "display_data"
    },
    {
     "data": {
      "application/vnd.jupyter.widget-view+json": {
       "model_id": "4c530902dda042d692dbce65813e923f",
       "version_major": 2,
       "version_minor": 0
      },
      "text/plain": [
       "  0%|          | 0/0.61 [00:00<?, ?it/s]"
      ]
     },
     "metadata": {},
     "output_type": "display_data"
    },
    {
     "data": {
      "application/vnd.jupyter.widget-view+json": {
       "model_id": "96fc079c6f594ab5a0893dfbf7f063cd",
       "version_major": 2,
       "version_minor": 0
      },
      "text/plain": [
       "  0%|          | 0/16.21 [00:00<?, ?it/s]"
      ]
     },
     "metadata": {},
     "output_type": "display_data"
    },
    {
     "data": {
      "application/vnd.jupyter.widget-view+json": {
       "model_id": "a27a92f9fefb4fcbaa745f74f39e7de7",
       "version_major": 2,
       "version_minor": 0
      },
      "text/plain": [
       "  0%|          | 0/4.58 [00:00<?, ?it/s]"
      ]
     },
     "metadata": {},
     "output_type": "display_data"
    },
    {
     "data": {
      "application/vnd.jupyter.widget-view+json": {
       "model_id": "1b60b1591c414ff7b7247937b36c522c",
       "version_major": 2,
       "version_minor": 0
      },
      "text/plain": [
       "  0%|          | 0/8.59 [00:00<?, ?it/s]"
      ]
     },
     "metadata": {},
     "output_type": "display_data"
    },
    {
     "data": {
      "application/vnd.jupyter.widget-view+json": {
       "model_id": "d86db26710774db5a422e91f9c57df69",
       "version_major": 2,
       "version_minor": 0
      },
      "text/plain": [
       "  0%|          | 0/2.84 [00:00<?, ?it/s]"
      ]
     },
     "metadata": {},
     "output_type": "display_data"
    },
    {
     "data": {
      "application/vnd.jupyter.widget-view+json": {
       "model_id": "ea7d8cb0d11441059682485a1b7d249b",
       "version_major": 2,
       "version_minor": 0
      },
      "text/plain": [
       "  0%|          | 0/4.2 [00:00<?, ?it/s]"
      ]
     },
     "metadata": {},
     "output_type": "display_data"
    },
    {
     "data": {
      "application/vnd.jupyter.widget-view+json": {
       "model_id": "0e64e7e10bfa443492ee2a9df464943e",
       "version_major": 2,
       "version_minor": 0
      },
      "text/plain": [
       "  0%|          | 0/4.7 [00:00<?, ?it/s]"
      ]
     },
     "metadata": {},
     "output_type": "display_data"
    },
    {
     "data": {
      "application/vnd.jupyter.widget-view+json": {
       "model_id": "6cd64148e8d844d19b55949e430bc461",
       "version_major": 2,
       "version_minor": 0
      },
      "text/plain": [
       "0it [00:00, ?it/s]"
      ]
     },
     "metadata": {},
     "output_type": "display_data"
    },
    {
     "data": {
      "application/vnd.jupyter.widget-view+json": {
       "model_id": "d8905af2a3714659b1c763342c36e14d",
       "version_major": 2,
       "version_minor": 0
      },
      "text/plain": [
       "  0%|          | 0/0.14 [00:00<?, ?it/s]"
      ]
     },
     "metadata": {},
     "output_type": "display_data"
    },
    {
     "data": {
      "application/vnd.jupyter.widget-view+json": {
       "model_id": "ad8bbe0f8468406b87baca045dfa8f16",
       "version_major": 2,
       "version_minor": 0
      },
      "text/plain": [
       "  0%|          | 0/2.31 [00:00<?, ?it/s]"
      ]
     },
     "metadata": {},
     "output_type": "display_data"
    },
    {
     "data": {
      "application/vnd.jupyter.widget-view+json": {
       "model_id": "8f97c7a8b6c340e68e32b4e56dc5a57c",
       "version_major": 2,
       "version_minor": 0
      },
      "text/plain": [
       "  0%|          | 0/2.38 [00:00<?, ?it/s]"
      ]
     },
     "metadata": {},
     "output_type": "display_data"
    },
    {
     "data": {
      "application/vnd.jupyter.widget-view+json": {
       "model_id": "79793a1ca45e49f6a96150e1950e154a",
       "version_major": 2,
       "version_minor": 0
      },
      "text/plain": [
       "  0%|          | 0/1.12 [00:00<?, ?it/s]"
      ]
     },
     "metadata": {},
     "output_type": "display_data"
    },
    {
     "data": {
      "application/vnd.jupyter.widget-view+json": {
       "model_id": "104c31f73d0e4f90840fc8be1cb2f353",
       "version_major": 2,
       "version_minor": 0
      },
      "text/plain": [
       "  0%|          | 0/1.26 [00:00<?, ?it/s]"
      ]
     },
     "metadata": {},
     "output_type": "display_data"
    },
    {
     "data": {
      "application/vnd.jupyter.widget-view+json": {
       "model_id": "5790f15c769244b48078a58c0b3e180b",
       "version_major": 2,
       "version_minor": 0
      },
      "text/plain": [
       "  0%|          | 0/6.99 [00:00<?, ?it/s]"
      ]
     },
     "metadata": {},
     "output_type": "display_data"
    },
    {
     "data": {
      "application/vnd.jupyter.widget-view+json": {
       "model_id": "fdb123541529442199fc28ae2eb7cad4",
       "version_major": 2,
       "version_minor": 0
      },
      "text/plain": [
       "  0%|          | 0/5.22 [00:00<?, ?it/s]"
      ]
     },
     "metadata": {},
     "output_type": "display_data"
    },
    {
     "data": {
      "application/vnd.jupyter.widget-view+json": {
       "model_id": "b21ab96ba7684017ab85911c628946a6",
       "version_major": 2,
       "version_minor": 0
      },
      "text/plain": [
       "  0%|          | 0/0.04 [00:00<?, ?it/s]"
      ]
     },
     "metadata": {},
     "output_type": "display_data"
    },
    {
     "data": {
      "application/vnd.jupyter.widget-view+json": {
       "model_id": "4007c81577d74443b2b6fc464d6e825d",
       "version_major": 2,
       "version_minor": 0
      },
      "text/plain": [
       "  0%|          | 0/2.29 [00:00<?, ?it/s]"
      ]
     },
     "metadata": {},
     "output_type": "display_data"
    }
   ],
   "source": [
    "df = preprocess_pheme(wdr_path, ds_raw_path)"
   ]
  },
  {
   "cell_type": "code",
   "execution_count": null,
   "metadata": {},
   "outputs": [],
   "source": []
  }
 ],
 "metadata": {
  "kernelspec": {
   "display_name": "Python 3 (ipykernel)",
   "language": "python",
   "name": "python3"
  },
  "language_info": {
   "codemirror_mode": {
    "name": "ipython",
    "version": 3
   },
   "file_extension": ".py",
   "mimetype": "text/x-python",
   "name": "python",
   "nbconvert_exporter": "python",
   "pygments_lexer": "ipython3",
   "version": "3.10.8"
  }
 },
 "nbformat": 4,
 "nbformat_minor": 1
}
