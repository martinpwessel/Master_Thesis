{
 "cells": [
  {
   "cell_type": "markdown",
   "metadata": {},
   "source": [
    "**Multidimensional Dataset**\n",
    "\n",
    "There are four main annotation categories. I left out framing, since for 1 the format didn't really fit to the others (and so I couldn't really use it for binary categories) and it seemed to be more or less very topic specific sentiment analysis likely already included in the bias category.\n",
    "There are 5 annotations per sentence, both average and majority vote are given (there are even more categories here).\n",
    "\n",
    "Categories in the preprocessed ds: ['id', 'text', 'label', 'average_subjectivity', 'majority_subjectivity', 'average_hidden_assumptions', 'majority_hidden_assumptions', 'average_bias_west', 'majority_bias_west', 'average_bias_russia', 'majority_bias_russia']\n",
    "\n",
    "\n",
    "Since they're already in the 0 to 3 scales, we leave them in the same scales:\n",
    "Scales (from the paper):\n",
    "Hidden Assumptions: no; rather no; rather yes; yes; (0.0 to 3.0)\n",
    "Subjectivity: objective; rather objective; rather subjective; subjective; (0.0 to 3.0)\n",
    "Framing (for each government, i.e., Russian/Ukrainian/Western government(s)): negative; slightly negative; neutral; slightly positive; positive; (-2.0 to 2.0)\n",
    "Bias (for each tendency of bias, i.e., Pro-Russia/Pro-West): no; rather no; rather yes; yes; (0.0 to 3.0)\n",
    "\n",
    "```\n",
    "To construct a binary label (both based on majority vote):\n",
    "0 ('NON-BIASED'): 0 and 1\n",
    "1 ('BIASED'): 2 and 3\n",
    "If either hidden assumptions or subjectivity is present the sentence is given label 1\n",
    "```\n",
    "\n",
    "NOTE: There seem to be only very few sentences actually biased here. Even with quite the broad definition there are only 50 out of 2000 sentences labeled as biased."
   ]
  },
  {
   "cell_type": "code",
   "execution_count": 1,
   "metadata": {},
   "outputs": [],
   "source": [
    "import os\n",
    "import sys\n",
    "import pandas as pd\n",
    "from prep_collection import PrepCollection as prep\n",
    "import json\n",
    "import numpy as np"
   ]
  },
  {
   "cell_type": "code",
   "execution_count": 3,
   "metadata": {
    "pycharm": {
     "name": "#%%\n"
    }
   },
   "outputs": [],
   "source": [
    "wdr_path = os.path.dirname(os.path.dirname(os.getcwd()))\n",
    "ds_raw_path = os.path.join(wdr_path + \"/Datasets/Text Level Bias/Multidimensional Dataset/\")\n",
    "files = [ele for ele in os.listdir(ds_raw_path) if '.json' in ele]"
   ]
  },
  {
   "cell_type": "code",
   "execution_count": 5,
   "metadata": {
    "pycharm": {
     "name": "#%%\n"
    }
   },
   "outputs": [],
   "source": [
    "def preprocess_multidimensional(wdr_path, ds_raw_path, files):\n",
    "    article_id = 0\n",
    "    ds_lst = []\n",
    "    for k in files:\n",
    "        with open(os.path.join(ds_raw_path, k)) as f:\n",
    "            article = json.load(f)\n",
    "            sentences = article['sentences']\n",
    "        sentence_id = 0\n",
    "        for i in sentences:\n",
    "            final_id = str(article_id) + '-' + str(sentence_id)  # so every sentence can be traced back to the article it belongs to\n",
    "            text = prep.prepare_text(i['content'])\n",
    "            avg_subjectivity = i['subjectivity']['score']['avg']\n",
    "            maj_subjectivity = i['subjectivity']['score']['maj']\n",
    "            avg_hidden = i['hidden_assumptions']['score']['avg']\n",
    "            maj_hidden = i['hidden_assumptions']['score']['maj']\n",
    "            avg_bias_west = i['bias']['score']['pro-west']['avg']\n",
    "            maj_bias_west = i['bias']['score']['pro-west']['maj']\n",
    "            avg_bias_russia = i['bias']['score']['pro-russia']['avg']\n",
    "            maj_bias_russia = i['bias']['score']['pro-russia']['maj']\n",
    "\n",
    "            if 1.5 <= maj_subjectivity <= 3 or 1.5 <= maj_hidden <= 3 or 1.5 <= maj_bias_west  <= 3 or 1.5 <= maj_bias_russia  <= 3:  # turns out majority votes can actually end up being floats\n",
    "                label = 1\n",
    "            elif 0 <= maj_subjectivity < 1.5 and 0 <= maj_hidden < 1.5 and 0 <= maj_bias_west  < 1.5 and 0 <= maj_bias_russia  < 1.5:\n",
    "                label = 0\n",
    "            else: # just a check\n",
    "                print(final_id)\n",
    "                raise ValueError\n",
    "            ds_lst.append([final_id, text, label, avg_subjectivity, maj_subjectivity, avg_hidden, maj_hidden, avg_bias_west, maj_bias_west, avg_bias_russia, maj_bias_russia])\n",
    "            sentence_id += 1\n",
    "        article_id += 1\n",
    "    df = pd.DataFrame(ds_lst, columns = ['id', 'text', 'label', 'average_subjectivity', 'majority_subjectivity', 'average_hidden_assumptions', 'majority_hidden_assumptions', 'average_bias_west', 'majority_bias_west', 'average_bias_russia', 'majority_bias_russia'])\n",
    "    df.to_csv(os.path.join(wdr_path + \"/Preprocessed_Datasets/019-MultidimensionalDataset.csv\"))"
   ]
  },
  {
   "cell_type": "code",
   "execution_count": 6,
   "metadata": {
    "pycharm": {
     "name": "#%%\n"
    }
   },
   "outputs": [],
   "source": [
    "preprocess_multidimensional(wdr_path, ds_raw_path, files)"
   ]
  },
  {
   "cell_type": "code",
   "execution_count": null,
   "metadata": {},
   "outputs": [],
   "source": []
  }
 ],
 "metadata": {
  "kernelspec": {
   "display_name": "Python 3 (ipykernel)",
   "language": "python",
   "name": "python3"
  },
  "language_info": {
   "codemirror_mode": {
    "name": "ipython",
    "version": 3
   },
   "file_extension": ".py",
   "mimetype": "text/x-python",
   "name": "python",
   "nbconvert_exporter": "python",
   "pygments_lexer": "ipython3",
   "version": "3.10.8"
  }
 },
 "nbformat": 4,
 "nbformat_minor": 1
}
