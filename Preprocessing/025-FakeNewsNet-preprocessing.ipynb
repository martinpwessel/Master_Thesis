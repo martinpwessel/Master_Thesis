{
 "cells": [
  {
   "cell_type": "markdown",
   "metadata": {},
   "source": [
    "**FakeNewsNet**\n",
    "\n",
    "Used the already cleaned Dataset from: https://github.com/rikard-io/FakeNewsNetCleaned including 373 articles classifier as real and fakenews.\n",
    "The dataset was split into 6337 sentences.\n",
    "\n",
    "```\n",
    "LABEL:\n",
    "real - 0\n",
    "fakenews - 1\n",
    "```"
   ]
  },
  {
   "cell_type": "code",
   "execution_count": 1,
   "metadata": {
    "pycharm": {
     "name": "#%%\n"
    }
   },
   "outputs": [],
   "source": [
    "import os\n",
    "import sys\n",
    "import pandas as pd\n",
    "from prep_collection import PrepCollection as prep\n",
    "import numpy as np\n",
    "import json\n",
    "import re"
   ]
  },
  {
   "cell_type": "code",
   "execution_count": 2,
   "metadata": {},
   "outputs": [],
   "source": [
    "wdr_path = os.path.dirname(os.path.dirname(os.getcwd()))\n",
    "ds_raw_path = os.path.join(wdr_path + \"/Datasets/Fake News/FakeNewsNetCleaned/Data\")"
   ]
  },
  {
   "cell_type": "code",
   "execution_count": 3,
   "metadata": {
    "pycharm": {
     "name": "#%%\n"
    }
   },
   "outputs": [],
   "source": [
    "def preprocess_fakenewsnet(wdr_path, ds_raw_path):\n",
    "    article_id = 0\n",
    "    ds = []\n",
    "    for source in os.listdir(ds_raw_path):\n",
    "        for fr in os.listdir(os.path.join(ds_raw_path, source)):\n",
    "            for article in os.listdir(os.path.join(ds_raw_path, source, fr)):\n",
    "                with open(os.path.join(ds_raw_path, source, fr, article)) as f:\n",
    "                    file = json.load(f)\n",
    "                type = file['type']\n",
    "                if type == 'fake':\n",
    "                    label = 1\n",
    "                elif type == 'real':\n",
    "                    label = 0\n",
    "                else:\n",
    "                    raise ValueError\n",
    "                article_text = file['text']\n",
    "                sentences = [prep.prepare_text(ele) for ele in re.split(r'[\\.!?] ', article_text)]\n",
    "                for k, sentence in enumerate(sentences):\n",
    "                    ds.append([str(article_id)+'-'+str(k), sentence, label])\n",
    "                article_id += 1\n",
    "    df = pd.DataFrame(ds, columns=['id', 'text', 'label'])\n",
    "    df.to_csv(os.path.join(wdr_path + \"/Preprocessed_Datasets/025-FakeNewsNet.csv\"))\n",
    "    return df"
   ]
  },
  {
   "cell_type": "code",
   "execution_count": 4,
   "metadata": {
    "pycharm": {
     "name": "#%%\n"
    }
   },
   "outputs": [],
   "source": [
    "df = preprocess_fakenewsnet(wdr_path, ds_raw_path)"
   ]
  },
  {
   "cell_type": "code",
   "execution_count": null,
   "metadata": {},
   "outputs": [],
   "source": []
  }
 ],
 "metadata": {
  "kernelspec": {
   "display_name": "Python 3 (ipykernel)",
   "language": "python",
   "name": "python3"
  },
  "language_info": {
   "codemirror_mode": {
    "name": "ipython",
    "version": 3
   },
   "file_extension": ".py",
   "mimetype": "text/x-python",
   "name": "python",
   "nbconvert_exporter": "python",
   "pygments_lexer": "ipython3",
   "version": "3.10.8"
  }
 },
 "nbformat": 4,
 "nbformat_minor": 1
}
