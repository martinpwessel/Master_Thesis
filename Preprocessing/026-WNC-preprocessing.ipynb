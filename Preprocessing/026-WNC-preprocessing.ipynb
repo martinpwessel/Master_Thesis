{
 "cells": [
  {
   "cell_type": "markdown",
   "metadata": {},
   "source": [
    "**Wikipedia Neutrality Corpus**\n",
    "\n",
    "The Data was downloaded from \"https://github.com/rpryzant/neutralizing-bias/tree/master/\"\n",
    "The data used comes from the biased.full file.\n",
    "The file is structured with the following columns: id    src_tok\ttgt_tok\tsrc_raw\ttgt_raw\tsrc_POS_tags\ttgt_parse_tags\n",
    "\n",
    "```\n",
    "LABEL:\n",
    "NON-BIASED = 0\n",
    "BIASED = 1\n",
    "```\n",
    "\n",
    "The dataset was then constructed as\n",
    "```\n",
    "id text label\n",
    "id-A src_raw 1\n",
    "id-B tgt_raw 0\n",
    "```"
   ]
  },
  {
   "cell_type": "code",
   "execution_count": 1,
   "metadata": {
    "pycharm": {
     "name": "#%%\n"
    }
   },
   "outputs": [],
   "source": [
    "import os\n",
    "import sys\n",
    "import pandas as pd\n",
    "from prep_collection import PrepCollection as prep"
   ]
  },
  {
   "cell_type": "code",
   "execution_count": 2,
   "metadata": {},
   "outputs": [],
   "source": [
    "# Adjusted to a filestructure of \\directory\\Datasets and \\directory\\Preprocessed_Datasets\n",
    "wdr_path = os.path.dirname(os.path.dirname(os.getcwd()))\n",
    "ds_raw_path = os.path.join(wdr_path + \"/Datasets/Linguistic Bias/wnc/biased.full\")"
   ]
  },
  {
   "cell_type": "code",
   "execution_count": 3,
   "metadata": {
    "pycharm": {
     "name": "#%%\n"
    }
   },
   "outputs": [],
   "source": [
    "def preprocess_wnc(wdr_path: str, ds_raw_path: str) -> None:\n",
    "    '''\n",
    "    Reads the bias.full file, splits by tab, assigns first sentence as biased sample and second as non-biased sample\n",
    "    Important to keep information\n",
    "    Saves the dataset as a csv\n",
    "    :param wdr_path:\n",
    "    :param ds_raw_path:\n",
    "    :return:\n",
    "    '''\n",
    "    with open(ds_raw_path, \"r\", errors='replace') as f:\n",
    "        file = f.readlines()\n",
    "    file_split = [ele.split(\"\\t\") for ele in file]\n",
    "    id = 0\n",
    "    ds_lst = []\n",
    "    for i in file_split:\n",
    "        biased_text = i[3]\n",
    "        nonbiased_text = i[4]\n",
    "        biased_id = str(id) + (\"-A\")\n",
    "        nonbiased_id = str(id) + (\"-B\")\n",
    "        ds_lst.append([biased_id, prep.prepare_text(biased_text), 1])\n",
    "        ds_lst.append([nonbiased_id, prep.prepare_text(nonbiased_text), 0])\n",
    "        id += 1\n",
    "    df = pd.DataFrame(ds_lst, columns = ['id', 'text', 'label'])\n",
    "    df.to_csv(os.path.join(wdr_path + \"/Preprocessed_Datasets/026-WNC.csv\"))\n",
    "\n",
    "preprocess_wnc(wdr_path, ds_raw_path)\n"
   ]
  },
  {
   "cell_type": "code",
   "execution_count": null,
   "metadata": {},
   "outputs": [],
   "source": []
  }
 ],
 "metadata": {
  "kernelspec": {
   "display_name": "Python 3 (ipykernel)",
   "language": "python",
   "name": "python3"
  },
  "language_info": {
   "codemirror_mode": {
    "name": "ipython",
    "version": 3
   },
   "file_extension": ".py",
   "mimetype": "text/x-python",
   "name": "python",
   "nbconvert_exporter": "python",
   "pygments_lexer": "ipython3",
   "version": "3.10.8"
  }
 },
 "nbformat": 4,
 "nbformat_minor": 1
}
