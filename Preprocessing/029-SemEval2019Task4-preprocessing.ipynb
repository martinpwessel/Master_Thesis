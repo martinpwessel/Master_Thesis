{
 "cells": [
  {
   "cell_type": "markdown",
   "metadata": {},
   "source": [
    "**SemEval 2019**\n",
    "\n",
    "The Dataset includes two different sets of articles for partisan news detection.\n",
    "The first are 750,000 articles annotated on article level by allsides.\n",
    "The second a 645 articles collection of human annotated articles (only those with inter-annotator agreement).\n",
    "Since in the BigNews Corpus a lot of allsides articles were already included the focus here was on the second dataset, resulting in 9783 annotated sentences.\n",
    "\n",
    "```\n",
    "LABEL:\n",
    "Neutral - 0\n",
    "Hyperpartisan - 1\n",
    "```"
   ]
  },
  {
   "cell_type": "code",
   "execution_count": 1,
   "metadata": {
    "pycharm": {
     "name": "#%%\n"
    }
   },
   "outputs": [],
   "source": [
    "import os\n",
    "import sys\n",
    "import pandas as pd\n",
    "from prep_collection import PrepCollection as prep\n",
    "# import numpy as np\n",
    "import json\n",
    "from bs4 import BeautifulSoup as bs"
   ]
  },
  {
   "cell_type": "code",
   "execution_count": 2,
   "metadata": {},
   "outputs": [],
   "source": [
    "wdr_path = os.path.dirname(os.path.dirname(os.getcwd()))\n",
    "ds_raw_path = os.path.join(wdr_path + \"/Datasets/Fake News/SemEval 2019 Task 4\")\n",
    "articles = [os.path.join(ds_raw_path, 'articles-training-byarticle-20181122.xml'), os.path.join(ds_raw_path, 'articles-test-byarticle-20181207.xml')]\n",
    "ground_truth = [os.path.join(ds_raw_path, 'ground-truth-training-byarticle-20181122.xml'), os.path.join(ds_raw_path, 'ground-truth-test-byarticle-20181207.xml')]"
   ]
  },
  {
   "cell_type": "code",
   "execution_count": 3,
   "metadata": {
    "pycharm": {
     "name": "#%%\n"
    }
   },
   "outputs": [],
   "source": [
    "def preprocess_semeval(articles, ground_truth, wdr_path):\n",
    "    df_final = pd.DataFrame(columns=['id', 'text', 'label'])\n",
    "    for z in range(len(articles)):\n",
    "        with open(articles[z], 'r', errors='replace') as f:\n",
    "            file = f.read()\n",
    "        bs_file = bs(file, 'xml')\n",
    "        ds = []\n",
    "        for article in bs_file.find_all('article'):\n",
    "            article_id = article.get('id')\n",
    "            sentences = [prep.prepare_text(ele.get_text()) for ele in article.find_all('p')]\n",
    "            for k, sentence in enumerate(sentences):\n",
    "                ds.append([str(article_id)+'-'+str(k), article_id, sentence, len(sentence.split())])\n",
    "        df_articles = pd.DataFrame(ds, columns= ['id', 'article_id', 'text', 'wordcount'])\n",
    "        with open(ground_truth[z], 'r', errors='replace') as g:\n",
    "            file2 = g.read()\n",
    "        bs_file_label = bs(file2, 'xml')\n",
    "        ds_label = []\n",
    "        for labels in bs_file_label.find_all('article'):\n",
    "            article_id = labels.get('id')\n",
    "            hyperpartisan = labels.get('hyperpartisan')\n",
    "            if hyperpartisan == \"true\":\n",
    "                label = 1\n",
    "            elif hyperpartisan == \"false\":\n",
    "                label = 0\n",
    "            ds_label.append([article_id, label])\n",
    "        df_labels = pd.DataFrame(ds_label, columns= ['article_id', 'label'])\n",
    "        df = pd.merge(df_articles, df_labels, on= 'article_id', how= 'inner')\n",
    "        df.drop('wordcount', axis=1, inplace=True)\n",
    "        df.drop('article_id', axis=1, inplace=True)\n",
    "        df_final = pd.concat([df_final, df])\n",
    "    df_final.to_csv(os.path.join(wdr_path + \"/Preprocessed_Datasets/029-SemEval2019.csv\"))\n",
    "    return df_final"
   ]
  },
  {
   "cell_type": "code",
   "execution_count": 4,
   "metadata": {
    "pycharm": {
     "name": "#%%\n"
    }
   },
   "outputs": [],
   "source": [
    "df = preprocess_semeval(articles, ground_truth, wdr_path)"
   ]
  },
  {
   "cell_type": "code",
   "execution_count": null,
   "metadata": {},
   "outputs": [],
   "source": []
  }
 ],
 "metadata": {
  "kernelspec": {
   "display_name": "Python 3 (ipykernel)",
   "language": "python",
   "name": "python3"
  },
  "language_info": {
   "codemirror_mode": {
    "name": "ipython",
    "version": 3
   },
   "file_extension": ".py",
   "mimetype": "text/x-python",
   "name": "python",
   "nbconvert_exporter": "python",
   "pygments_lexer": "ipython3",
   "version": "3.10.8"
  }
 },
 "nbformat": 4,
 "nbformat_minor": 1
}
