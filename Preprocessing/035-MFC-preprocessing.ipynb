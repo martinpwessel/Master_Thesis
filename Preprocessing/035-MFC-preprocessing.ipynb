{
 "cells": [
  {
   "cell_type": "markdown",
   "metadata": {},
   "source": [
    "**MediaFrameCorpus**\n",
    "\n",
    "Datasource: Got it directly from Dallas Card\n",
    "'The text of each article was shortened to 225 words' --> Because text is already shortened then entire text was used as input.\n",
    "The individual frames are more topic descriptions and don't seem to be of much use.\n",
    "Chose the \"tone\" metric to be most useful. However, needs to be discussed whether this isn't more sentiment analysis rather than framing.\n",
    "\n",
    "```\n",
    "LABEL:\n",
    "0 - Neutral\n",
    "1 - Pro/Anti\n",
    "```\n",
    "\n",
    "`6927` unlabelled entries were filtered out"
   ]
  },
  {
   "cell_type": "code",
   "execution_count": 1,
   "metadata": {},
   "outputs": [],
   "source": [
    "import os\n",
    "import sys\n",
    "import pandas as pd\n",
    "from prep_collection import PrepCollection as prep\n",
    "import json"
   ]
  },
  {
   "cell_type": "code",
   "execution_count": 5,
   "metadata": {
    "pycharm": {
     "name": "#%%\n"
    }
   },
   "outputs": [
    {
     "data": {
      "text/plain": [
       "['deathpenalty', 'guncontrol', 'samesex', 'climate', 'immigration', 'tobacco']"
      ]
     },
     "execution_count": 5,
     "metadata": {},
     "output_type": "execute_result"
    }
   ],
   "source": [
    "wdr_path = os.path.dirname(os.path.dirname(os.getcwd()))\n",
    "ds_raw_path = os.path.join(wdr_path + \"/Datasets/Linguistic Bias/mfc_v4.0\")\n",
    "files = [ele for ele in os.listdir(ds_raw_path) if \".\" not in ele]\n",
    "files"
   ]
  },
  {
   "cell_type": "code",
   "execution_count": 7,
   "metadata": {
    "pycharm": {
     "name": "#%%\n"
    }
   },
   "outputs": [],
   "source": [
    "def preprocess_mfc(wdr_path, ds_raw_path, files):\n",
    "    '''\n",
    "    iterates over the six topic folders. Takes the text and preprocesses it. Takes the label and puts into a binary shape. Appends everything into one df and saves it as a csv.\n",
    "    :param wdr_path:\n",
    "    :param ds_raw_path:\n",
    "    :param files:\n",
    "    :return:\n",
    "    '''\n",
    "    id = 0\n",
    "    ds_lst = []\n",
    "    for entry in files:\n",
    "        with open(os.path.join(ds_raw_path + \"/\" + entry + \"/\" + entry + \"_labeled.json\"), 'r') as f:\n",
    "            file = json.load(f)\n",
    "        ds_sub_lst = []\n",
    "        for i in list(file.keys()):\n",
    "            text = file[i]['text'][18:]\n",
    "            tone = file[i]['primary_tone']\n",
    "            if tone == 17 or tone == 19:\n",
    "                label = 1\n",
    "                ds_sub_lst.append([id, prep.prepare_text(text), label])\n",
    "                id += 1\n",
    "            elif tone == 18:\n",
    "                label = 0\n",
    "                ds_sub_lst.append([id, prep.prepare_text(text), label])\n",
    "                id += 1\n",
    "            else:  # Filters out the unlabeled entries\n",
    "                pass\n",
    "        ds_lst.extend(ds_sub_lst)\n",
    "    df = pd.DataFrame(ds_lst, columns= ['id', 'text', 'label'])\n",
    "    df.to_csv(os.path.join(wdr_path + \"/Preprocessed_Datasets/035-MFC.csv\"))"
   ]
  },
  {
   "cell_type": "code",
   "execution_count": 8,
   "metadata": {
    "pycharm": {
     "name": "#%%\n"
    }
   },
   "outputs": [],
   "source": [
    "preprocess_mfc(wdr_path, ds_raw_path, files)"
   ]
  },
  {
   "cell_type": "code",
   "execution_count": null,
   "metadata": {},
   "outputs": [],
   "source": []
  }
 ],
 "metadata": {
  "kernelspec": {
   "display_name": "Python 3 (ipykernel)",
   "language": "python",
   "name": "python3"
  },
  "language_info": {
   "codemirror_mode": {
    "name": "ipython",
    "version": 3
   },
   "file_extension": ".py",
   "mimetype": "text/x-python",
   "name": "python",
   "nbconvert_exporter": "python",
   "pygments_lexer": "ipython3",
   "version": "3.10.8"
  }
 },
 "nbformat": 4,
 "nbformat_minor": 1
}
