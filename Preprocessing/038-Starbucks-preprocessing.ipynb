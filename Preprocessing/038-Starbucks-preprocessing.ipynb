{
 "cells": [
  {
   "cell_type": "markdown",
   "metadata": {},
   "source": [
    "**Starbucks Dataset**\n",
    "\n",
    "[Source](https://github.com/skymoonlight/biased-sents-annotation)\n",
    "\n",
    "\n",
    "Labels from 1 to 4 from 4-5 annotators for 46 articles on 842 sentences.\n",
    "'neutral and not biased, slightly biased, biased, and very biased'\n",
    "Averaged the annotations from different annotators.\n",
    "\n",
    "\n",
    "\n",
    "```\n",
    "LABEL (binary):\n",
    "NEUTRAL - 0\n",
    "BIASED - 1\n",
    "```\n",
    "\n",
    "Everything under a rating of `1.5` is neutral; everything above is biased\n",
    "\n",
    "```\n",
    "CATEGORY (average value NOT categorical):\n",
    "NEUTRAL - 0\n",
    "SLIGHTLY BIASED - 1\n",
    "BIASED - 2\n",
    "VERY BIASED - 3\n",
    "```"
   ]
  },
  {
   "cell_type": "code",
   "execution_count": 1,
   "metadata": {
    "pycharm": {
     "name": "#%%\n"
    }
   },
   "outputs": [],
   "source": [
    "import os\n",
    "import sys\n",
    "import pandas as pd\n",
    "from prep_collection import PrepCollection as prep"
   ]
  },
  {
   "cell_type": "code",
   "execution_count": 2,
   "metadata": {
    "pycharm": {
     "name": "#%%\n"
    }
   },
   "outputs": [],
   "source": [
    "wdr_path = os.path.dirname(os.path.dirname(os.getcwd()))\n",
    "ds_raw_path = os.path.join(wdr_path + \"/Datasets/Linguistic Bias/Starbucks/Sora_LREC2020_biasedsentences.csv\")"
   ]
  },
  {
   "cell_type": "code",
   "execution_count": 3,
   "metadata": {
    "pycharm": {
     "name": "#%%\n"
    }
   },
   "outputs": [],
   "source": [
    "def preprocess_starbucks(wdr_path, ds_raw_path):\n",
    "    df_original = pd.read_csv(ds_raw_path)\n",
    "    df_text = df_original.groupby('id_article').min().reset_index()\n",
    "    df_average_label = df_original.groupby('id_article').mean()\n",
    "    ds = []\n",
    "    article_id = 0\n",
    "    for row in range(len(df_text)):\n",
    "        sentence_id = 0\n",
    "        for sent_index in range(20):\n",
    "            category = df_average_label.loc[row+1, str(sent_index)]\n",
    "            if category < 1.5:\n",
    "                label = 0\n",
    "            elif category >= 1.5:\n",
    "                label = 1\n",
    "            else:\n",
    "                raise ValueError\n",
    "            text = prep.prepare_text(str(df_text.loc[row, 's' + str(sent_index)])[4:])\n",
    "            id = str(article_id) + '-' + str(sentence_id)\n",
    "            if text != \"\":  # Some articles are shorter than 19 sentences\n",
    "                sub_lst = [id, text,  label, category-1] # original scale goes from 1 to 4\n",
    "                ds.append(sub_lst)\n",
    "            sentence_id += 1\n",
    "        article_id += 1\n",
    "    df = pd.DataFrame(ds, columns=['id', 'text', 'label', 'category'])\n",
    "    df.to_csv(os.path.join(wdr_path + \"/Preprocessed_Datasets/038-Starbucks.csv\"))"
   ]
  },
  {
   "cell_type": "code",
   "execution_count": 4,
   "metadata": {
    "pycharm": {
     "name": "#%%\n"
    }
   },
   "outputs": [],
   "source": [
    "preprocess_starbucks(wdr_path, ds_raw_path)"
   ]
  },
  {
   "cell_type": "code",
   "execution_count": null,
   "metadata": {},
   "outputs": [],
   "source": []
  }
 ],
 "metadata": {
  "kernelspec": {
   "display_name": "Python 3 (ipykernel)",
   "language": "python",
   "name": "python3"
  },
  "language_info": {
   "codemirror_mode": {
    "name": "ipython",
    "version": 3
   },
   "file_extension": ".py",
   "mimetype": "text/x-python",
   "name": "python",
   "nbconvert_exporter": "python",
   "pygments_lexer": "ipython3",
   "version": "3.10.7"
  }
 },
 "nbformat": 4,
 "nbformat_minor": 1
}