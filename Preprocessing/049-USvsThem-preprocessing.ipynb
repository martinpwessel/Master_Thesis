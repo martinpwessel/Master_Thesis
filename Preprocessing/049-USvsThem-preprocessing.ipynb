{
 "cells": [
  {
   "cell_type": "markdown",
   "metadata": {},
   "source": [
    "**USvsThem Dataset**\n",
    "\n",
    "Datasource: Timo's google drive\n",
    "\n",
    "Dataset consists of many different categories such as emotion or sentiment. Used the accumulated UsvsThem score. Label here consists of the binary label they construct out of it in the paper.\n",
    "\n",
    "```\n",
    "LABEL\n",
    "IS_Critical TRUE = 1\n",
    "IS_Critical FALSE = 0\n",
    "```"
   ]
  },
  {
   "cell_type": "code",
   "execution_count": 1,
   "metadata": {},
   "outputs": [],
   "source": [
    "import os\n",
    "import sys\n",
    "import pandas as pd\n",
    "from prep_collection import PrepCollection as prep"
   ]
  },
  {
   "cell_type": "code",
   "execution_count": 3,
   "metadata": {
    "pycharm": {
     "name": "#%%\n"
    }
   },
   "outputs": [],
   "source": [
    "wdr_path = os.path.dirname(os.path.dirname(os.getcwd()))\n",
    "ds_raw_path = os.path.join(wdr_path + \"/Datasets/Linguistic Bias/USvsThem/Reddit_dataset.csv\")"
   ]
  },
  {
   "cell_type": "code",
   "execution_count": 4,
   "metadata": {
    "pycharm": {
     "name": "#%%\n"
    }
   },
   "outputs": [],
   "source": [
    "def usvsthem_preprocessing(ds_raw_path, wdr_path):\n",
    "    df_original = pd.read_csv(ds_raw_path)\n",
    "    df = pd.DataFrame()\n",
    "    df['text'] = df_original['body'].apply(lambda x: prep.prepare_text(x))\n",
    "    df['label'] = df_original['is_Disc_Crit_encoded']\n",
    "    df['usVSthem_scale'] = df_original['usVSthem_scale']\n",
    "    df['id'] = df.index\n",
    "    df.to_csv(os.path.join(wdr_path + \"/Preprocessed_Datasets/049-USvsThem.csv\"))"
   ]
  },
  {
   "cell_type": "code",
   "execution_count": 5,
   "metadata": {
    "pycharm": {
     "name": "#%%\n"
    }
   },
   "outputs": [],
   "source": [
    "usvsthem_preprocessing(ds_raw_path, wdr_path)"
   ]
  },
  {
   "cell_type": "code",
   "execution_count": null,
   "metadata": {},
   "outputs": [],
   "source": []
  }
 ],
 "metadata": {
  "kernelspec": {
   "display_name": "Python 3 (ipykernel)",
   "language": "python",
   "name": "python3"
  },
  "language_info": {
   "codemirror_mode": {
    "name": "ipython",
    "version": 3
   },
   "file_extension": ".py",
   "mimetype": "text/x-python",
   "name": "python",
   "nbconvert_exporter": "python",
   "pygments_lexer": "ipython3",
   "version": "3.10.8"
  }
 },
 "nbformat": 4,
 "nbformat_minor": 1
}
