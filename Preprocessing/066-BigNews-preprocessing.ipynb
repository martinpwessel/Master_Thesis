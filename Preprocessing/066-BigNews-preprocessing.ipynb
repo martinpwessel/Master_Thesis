{
 "cells": [
  {
   "cell_type": "markdown",
   "metadata": {},
   "source": [
    "**BigNews Corpus**\n",
    "\n",
    "Datasource: Got it sent directly from the author\n",
    "\n",
    "Three files Center, Left and Right\n",
    "\n",
    "```LABEL:\n",
    "\n",
    "0 - NEUTRAL\n",
    "1 - BIASED\n",
    "\n",
    "MULTICLASS LABEL:\n",
    "0 - NEUTRAL\n",
    "1 - LEFT\n",
    "2- RIGHT\n",
    "```"
   ]
  },
  {
   "cell_type": "code",
   "execution_count": 5,
   "metadata": {
    "pycharm": {
     "name": "#%%\n"
    }
   },
   "outputs": [],
   "source": [
    "import os\n",
    "import sys\n",
    "import pandas as pd\n",
    "from prep_collection import PrepCollection as prep\n",
    "import json\n",
    "import ijson\n",
    "import io\n",
    "from csv import writer"
   ]
  },
  {
   "cell_type": "code",
   "execution_count": 6,
   "metadata": {
    "pycharm": {
     "name": "#%%\n"
    }
   },
   "outputs": [],
   "source": [
    "#!pip install ijson"
   ]
  },
  {
   "cell_type": "code",
   "execution_count": 7,
   "metadata": {},
   "outputs": [],
   "source": [
    "wdr_path = os.path.dirname(os.path.dirname(os.getcwd()))\n",
    "ds_path_center = os.path.join(wdr_path + \"/Datasets/Cognitive Bias/bignews/BIGNEWSBLN_train_center.json\")\n",
    "ds_path_left = os.path.join(wdr_path + \"/Datasets/Cognitive Bias/bignews/BIGNEWSBLN_train_left.json\")\n",
    "ds_path_right = os.path.join(wdr_path + \"/Datasets/Cognitive Bias/bignews/BIGNEWSBLN_train_right.json\")"
   ]
  },
  {
   "cell_type": "code",
   "execution_count": 8,
   "metadata": {
    "pycharm": {
     "name": "#%%\n"
    }
   },
   "outputs": [],
   "source": [
    "def preprocessing_bignews(wdr_path, ds_path_center, ds_path_left, ds_path_right):\n",
    "    df = pd.DataFrame(columns= ['text', 'label', 'category'])\n",
    "    df.index.name='id'\n",
    "    csv_path = os.path.join(wdr_path + \"/Preprocessed_Datasets/066-BigNews.csv\")\n",
    "    df.to_csv(csv_path)\n",
    "    id = 0\n",
    "    with open(csv_path, 'a', newline='') as f_object:\n",
    "        for file, label, category in [(ds_path_center, 0, 0), (ds_path_left, 1, 1), (ds_path_right, 1, 2)]:\n",
    "            with open(file, 'rb') as f:\n",
    "                writer_object = writer(f_object)\n",
    "                for i in ijson.items(f, \"item\"):\n",
    "                    #j = json.dumps(j).encode('utf-8')\n",
    "                    #item = ijson.items(io.BytesIO(j), '')\n",
    "                    text = i['text']\n",
    "                    id_add = 0\n",
    "                    for sentence in text:\n",
    "                        final_id = str(id) + '-' + str(id_add)\n",
    "                        sent = prep.prepare_text(sentence)\n",
    "                        writer_object.writerow([final_id, sent, label, category])\n",
    "                        id_add += 1\n",
    "                    id += 1\n",
    "    print(id)"
   ]
  },
  {
   "cell_type": "code",
   "execution_count": 9,
   "metadata": {
    "pycharm": {
     "name": "#%%\n"
    }
   },
   "outputs": [
    {
     "name": "stdout",
     "output_type": "stream",
     "text": [
      "2331552\n"
     ]
    }
   ],
   "source": [
    "preprocessing_bignews(wdr_path, ds_path_center, ds_path_left, ds_path_right)"
   ]
  },
  {
   "cell_type": "code",
   "execution_count": null,
   "metadata": {},
   "outputs": [],
   "source": []
  }
 ],
 "metadata": {
  "kernelspec": {
   "display_name": "Python 3 (ipykernel)",
   "language": "python",
   "name": "python3"
  },
  "language_info": {
   "codemirror_mode": {
    "name": "ipython",
    "version": 3
   },
   "file_extension": ".py",
   "mimetype": "text/x-python",
   "name": "python",
   "nbconvert_exporter": "python",
   "pygments_lexer": "ipython3",
   "version": "3.10.8"
  }
 },
 "nbformat": 4,
 "nbformat_minor": 1
}
