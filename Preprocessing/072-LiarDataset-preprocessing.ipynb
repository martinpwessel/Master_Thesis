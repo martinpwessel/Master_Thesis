{
 "cells": [
  {
   "cell_type": "markdown",
   "metadata": {},
   "source": [
    "**Liar Dataset**\n",
    "\n",
    "Datasource: The link in the paper\n",
    "\n",
    "```\n",
    "LABEL:\n",
    "0 - TRUE (half-true, mostly-true, barely-true, true)\n",
    "1 - FALSE (false, pants-fire\n",
    "```\n",
    "LABELS MULTICLASS:\n",
    "`{'true': 0, 'mostly-true': 1, 'half-true': 2, 'barely-true': 3, 'false': 4, 'pants-fire': 5}`"
   ]
  },
  {
   "cell_type": "code",
   "execution_count": 2,
   "metadata": {},
   "outputs": [],
   "source": [
    "import os\n",
    "import sys\n",
    "import pandas as pd\n",
    "from prep_collection import PrepCollection as prep\n",
    "import json"
   ]
  },
  {
   "cell_type": "code",
   "execution_count": 3,
   "metadata": {
    "pycharm": {
     "name": "#%%\n"
    }
   },
   "outputs": [
    {
     "data": {
      "text/plain": [
       "['train.tsv', 'valid.tsv', 'test.tsv']"
      ]
     },
     "execution_count": 3,
     "metadata": {},
     "output_type": "execute_result"
    }
   ],
   "source": [
    "wdr_path = os.path.dirname(os.path.dirname(os.getcwd()))\n",
    "ds_raw_path = os.path.join(wdr_path + \"/Datasets/Cognitive Bias/liar_dataset\")\n",
    "files = [ele for ele in os.listdir(ds_raw_path) if \".tsv\" in ele]\n",
    "files"
   ]
  },
  {
   "cell_type": "code",
   "execution_count": 7,
   "metadata": {
    "pycharm": {
     "name": "#%%\n"
    }
   },
   "outputs": [],
   "source": [
    "def preprocess_liar(wdr_path, ds_raw_path, files):\n",
    "    id = 0\n",
    "    ds_lst = []\n",
    "    for entry in files:\n",
    "        with open(os.path.join(ds_raw_path, entry), 'r', errors= 'replace') as f:\n",
    "            file = f.readlines()\n",
    "        file_split = [ele.split(\"\\t\") for ele in file]\n",
    "        ds_sub_lst = []\n",
    "        for i in file_split:\n",
    "            text = i[2]\n",
    "            if i[1] in ['half-true', 'mostly-true', 'barely-true', 'true']:\n",
    "                label = 0\n",
    "            elif i[1] in ['false', 'pants-fire']:\n",
    "                label = 1\n",
    "            else:\n",
    "                raise ValueError\n",
    "            labels_lst = {'true': 0, 'mostly-true': 1, 'half-true': 2, 'barely-true': 3, 'false': 4, 'pants-fire': 5}\n",
    "            ds_sub_lst.append([id, prep.prepare_text(text), label, labels_lst[i[1]]])\n",
    "            id += 1\n",
    "        ds_lst.extend(ds_sub_lst)\n",
    "    df = pd.DataFrame(ds_lst, columns = ['id', 'text', 'label', 'label_multiclass'])\n",
    "    df.to_csv(os.path.join(wdr_path + \"/Preprocessed_Datasets/072-liar_dataset.csv\"))\n",
    "    return df"
   ]
  },
  {
   "cell_type": "code",
   "execution_count": 8,
   "metadata": {
    "pycharm": {
     "name": "#%%\n"
    }
   },
   "outputs": [],
   "source": [
    "df = preprocess_liar(wdr_path, ds_raw_path, files)"
   ]
  },
  {
   "cell_type": "code",
   "execution_count": 9,
   "metadata": {},
   "outputs": [
    {
     "data": {
      "text/html": [
       "<div>\n",
       "<style scoped>\n",
       "    .dataframe tbody tr th:only-of-type {\n",
       "        vertical-align: middle;\n",
       "    }\n",
       "\n",
       "    .dataframe tbody tr th {\n",
       "        vertical-align: top;\n",
       "    }\n",
       "\n",
       "    .dataframe thead th {\n",
       "        text-align: right;\n",
       "    }\n",
       "</style>\n",
       "<table border=\"1\" class=\"dataframe\">\n",
       "  <thead>\n",
       "    <tr style=\"text-align: right;\">\n",
       "      <th></th>\n",
       "      <th>id</th>\n",
       "      <th>text</th>\n",
       "      <th>label</th>\n",
       "      <th>label_multiclass</th>\n",
       "    </tr>\n",
       "  </thead>\n",
       "  <tbody>\n",
       "    <tr>\n",
       "      <th>0</th>\n",
       "      <td>0</td>\n",
       "      <td>Says the Annies List political group supports ...</td>\n",
       "      <td>1</td>\n",
       "      <td>4</td>\n",
       "    </tr>\n",
       "    <tr>\n",
       "      <th>1</th>\n",
       "      <td>1</td>\n",
       "      <td>When did the decline of coal start It started ...</td>\n",
       "      <td>0</td>\n",
       "      <td>2</td>\n",
       "    </tr>\n",
       "    <tr>\n",
       "      <th>2</th>\n",
       "      <td>2</td>\n",
       "      <td>Hillary Clinton agrees with John McCain by vot...</td>\n",
       "      <td>0</td>\n",
       "      <td>1</td>\n",
       "    </tr>\n",
       "    <tr>\n",
       "      <th>3</th>\n",
       "      <td>3</td>\n",
       "      <td>Health care reform legislation is likely to ma...</td>\n",
       "      <td>1</td>\n",
       "      <td>4</td>\n",
       "    </tr>\n",
       "    <tr>\n",
       "      <th>4</th>\n",
       "      <td>4</td>\n",
       "      <td>The economic turnaround started at the end of ...</td>\n",
       "      <td>0</td>\n",
       "      <td>2</td>\n",
       "    </tr>\n",
       "    <tr>\n",
       "      <th>...</th>\n",
       "      <td>...</td>\n",
       "      <td>...</td>\n",
       "      <td>...</td>\n",
       "      <td>...</td>\n",
       "    </tr>\n",
       "    <tr>\n",
       "      <th>12831</th>\n",
       "      <td>12831</td>\n",
       "      <td>Says his budget provides the highest state fun...</td>\n",
       "      <td>0</td>\n",
       "      <td>2</td>\n",
       "    </tr>\n",
       "    <tr>\n",
       "      <th>12832</th>\n",
       "      <td>12832</td>\n",
       "      <td>Ive been here almost every day</td>\n",
       "      <td>0</td>\n",
       "      <td>3</td>\n",
       "    </tr>\n",
       "    <tr>\n",
       "      <th>12833</th>\n",
       "      <td>12833</td>\n",
       "      <td>In the early 1980s Sen Edward Kennedy secretly...</td>\n",
       "      <td>0</td>\n",
       "      <td>3</td>\n",
       "    </tr>\n",
       "    <tr>\n",
       "      <th>12834</th>\n",
       "      <td>12834</td>\n",
       "      <td>Says an EPA permit languished under Strickland...</td>\n",
       "      <td>0</td>\n",
       "      <td>3</td>\n",
       "    </tr>\n",
       "    <tr>\n",
       "      <th>12835</th>\n",
       "      <td>12835</td>\n",
       "      <td>Says the governor is going around the state ta...</td>\n",
       "      <td>1</td>\n",
       "      <td>4</td>\n",
       "    </tr>\n",
       "  </tbody>\n",
       "</table>\n",
       "<p>12836 rows × 4 columns</p>\n",
       "</div>"
      ],
      "text/plain": [
       "          id                                               text  label  \\\n",
       "0          0  Says the Annies List political group supports ...      1   \n",
       "1          1  When did the decline of coal start It started ...      0   \n",
       "2          2  Hillary Clinton agrees with John McCain by vot...      0   \n",
       "3          3  Health care reform legislation is likely to ma...      1   \n",
       "4          4  The economic turnaround started at the end of ...      0   \n",
       "...      ...                                                ...    ...   \n",
       "12831  12831  Says his budget provides the highest state fun...      0   \n",
       "12832  12832                    Ive been here almost every day       0   \n",
       "12833  12833  In the early 1980s Sen Edward Kennedy secretly...      0   \n",
       "12834  12834  Says an EPA permit languished under Strickland...      0   \n",
       "12835  12835  Says the governor is going around the state ta...      1   \n",
       "\n",
       "       label_multiclass  \n",
       "0                     4  \n",
       "1                     2  \n",
       "2                     1  \n",
       "3                     4  \n",
       "4                     2  \n",
       "...                 ...  \n",
       "12831                 2  \n",
       "12832                 3  \n",
       "12833                 3  \n",
       "12834                 3  \n",
       "12835                 4  \n",
       "\n",
       "[12836 rows x 4 columns]"
      ]
     },
     "execution_count": 9,
     "metadata": {},
     "output_type": "execute_result"
    }
   ],
   "source": [
    "df"
   ]
  },
  {
   "cell_type": "code",
   "execution_count": null,
   "metadata": {},
   "outputs": [],
   "source": []
  }
 ],
 "metadata": {
  "kernelspec": {
   "display_name": "Python 3 (ipykernel)",
   "language": "python",
   "name": "python3"
  },
  "language_info": {
   "codemirror_mode": {
    "name": "ipython",
    "version": 3
   },
   "file_extension": ".py",
   "mimetype": "text/x-python",
   "name": "python",
   "nbconvert_exporter": "python",
   "pygments_lexer": "ipython3",
   "version": "3.10.8"
  }
 },
 "nbformat": 4,
 "nbformat_minor": 1
}
