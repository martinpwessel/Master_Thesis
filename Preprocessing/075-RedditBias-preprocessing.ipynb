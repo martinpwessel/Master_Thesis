{
 "cells": [
  {
   "cell_type": "markdown",
   "metadata": {},
   "source": [
    "**RedditBias Dataset**\n",
    "\n",
    "Datasource: https://github.com/umanlp/RedditBias\n",
    "Consits of four subcategories: Religion, Race, Gender and Queerness\n",
    "Only the annotated comments were taken. Here entire sentence and phrase was annotated for whether it's biased. The entire sentence (including the phrase) was taken into the ds.\n",
    "\n",
    "```\n",
    "LABEL:\n",
    "1 - BIASED\n",
    "0 - NON-BIASED\n",
    "```\n",
    "```\n",
    "CATEGORIES:\n",
    "0 - GENDER\n",
    "1 - ORIENTATION\n",
    "2 - RACE\n",
    "3 - RELIGION\n",
    "```"
   ]
  },
  {
   "cell_type": "code",
   "execution_count": 1,
   "metadata": {},
   "outputs": [],
   "source": [
    "import os\n",
    "import sys\n",
    "import pandas as pd\n",
    "from prep_collection import PrepCollection as prep"
   ]
  },
  {
   "cell_type": "code",
   "execution_count": 2,
   "metadata": {
    "pycharm": {
     "name": "#%%\n"
    }
   },
   "outputs": [],
   "source": [
    "# Adjusted to a filestructure of ./Datasets and ./Preprocessed_Datasets\n",
    "wdr_path = os.path.dirname(os.path.dirname(os.getcwd()))\n",
    "ds_raw_path = os.path.join(wdr_path + \"/Datasets/Linguistic Bias/RedditBias/data\")\n",
    "files = ['reddit_comments_gender_female_processed_phrase_annotated.csv', 'reddit_comments_orientation_lgbtq_processed_phrase_annotated.csv', 'reddit_comments_race_black_processed_phrase_annotated.csv','reddit_comments_religion1_jews_processed_phrase_annotated.csv', 'reddit_comments_religion2_muslims_processed_phrase_annotated.csv']"
   ]
  },
  {
   "cell_type": "code",
   "execution_count": 3,
   "metadata": {
    "pycharm": {
     "name": "#%%\n"
    }
   },
   "outputs": [],
   "source": [
    "def redditbias_preprocessing(wdr_path, ds_raw_path, files):\n",
    "    df = pd.DataFrame(columns= ['text', 'label', 'category'])\n",
    "    for file in files:\n",
    "        file_path = os.path.join(ds_raw_path + '/' + file)\n",
    "        print(file_path)\n",
    "        with open(file_path, errors= 'replace') as f:\n",
    "            df_original = pd.read_csv(f)\n",
    "        df_sub = pd.DataFrame()\n",
    "        df_original = df_original.dropna(subset=['bias_sent']) # dropped all rows that did not have a label\n",
    "        df_original = df_original[~df_original['bias_sent'].isin(['1 - context needed', 're-state', 'biased?', 'toxic-unrelated', 'fact?', 'question'])]\n",
    "        df_sub['text'] = df_original['comment'].apply(lambda x: prep.prepare_text(x))\n",
    "        df_sub['category'] = file\n",
    "        df_sub['label'] = df_original['bias_sent'].apply(lambda x: int(x))\n",
    "        # strangely the number of observations doesn't 100% align with those in the paper but we couldn't find the reason for that\n",
    "        df = pd.concat([df, df_sub])\n",
    "\n",
    "    df.index.name='id'\n",
    "    df.to_csv(os.path.join(wdr_path + \"/Preprocessed_Datasets/075-RedditBias.csv\"))\n",
    "    return df"
   ]
  },
  {
   "cell_type": "code",
   "execution_count": 4,
   "metadata": {
    "pycharm": {
     "name": "#%%\n"
    }
   },
   "outputs": [
    {
     "name": "stdout",
     "output_type": "stream",
     "text": [
      "/home/user/docs/studium/ongoing/22-22/thesis/working_dir/Datasets/Linguistic Bias/RedditBias/data/reddit_comments_gender_female_processed_phrase_annotated.csv\n",
      "/home/user/docs/studium/ongoing/22-22/thesis/working_dir/Datasets/Linguistic Bias/RedditBias/data/reddit_comments_orientation_lgbtq_processed_phrase_annotated.csv\n",
      "/home/user/docs/studium/ongoing/22-22/thesis/working_dir/Datasets/Linguistic Bias/RedditBias/data/reddit_comments_race_black_processed_phrase_annotated.csv\n",
      "/home/user/docs/studium/ongoing/22-22/thesis/working_dir/Datasets/Linguistic Bias/RedditBias/data/reddit_comments_religion1_jews_processed_phrase_annotated.csv\n",
      "/home/user/docs/studium/ongoing/22-22/thesis/working_dir/Datasets/Linguistic Bias/RedditBias/data/reddit_comments_religion2_muslims_processed_phrase_annotated.csv\n"
     ]
    }
   ],
   "source": [
    "df = redditbias_preprocessing(wdr_path, ds_raw_path, files)"
   ]
  },
  {
   "cell_type": "code",
   "execution_count": 14,
   "metadata": {},
   "outputs": [
    {
     "data": {
      "text/html": [
       "<div>\n",
       "<style scoped>\n",
       "    .dataframe tbody tr th:only-of-type {\n",
       "        vertical-align: middle;\n",
       "    }\n",
       "\n",
       "    .dataframe tbody tr th {\n",
       "        vertical-align: top;\n",
       "    }\n",
       "\n",
       "    .dataframe thead th {\n",
       "        text-align: right;\n",
       "    }\n",
       "</style>\n",
       "<table border=\"1\" class=\"dataframe\">\n",
       "  <thead>\n",
       "    <tr style=\"text-align: right;\">\n",
       "      <th></th>\n",
       "      <th>text</th>\n",
       "      <th>label</th>\n",
       "      <th>category</th>\n",
       "    </tr>\n",
       "    <tr>\n",
       "      <th>id</th>\n",
       "      <th></th>\n",
       "      <th></th>\n",
       "      <th></th>\n",
       "    </tr>\n",
       "  </thead>\n",
       "  <tbody>\n",
       "    <tr>\n",
       "      <th>0</th>\n",
       "      <td>im sorry this is happening for you at least yo...</td>\n",
       "      <td>0</td>\n",
       "      <td>reddit_comments_gender_female_processed_phrase...</td>\n",
       "    </tr>\n",
       "    <tr>\n",
       "      <th>1</th>\n",
       "      <td>their mothers are in on the joke art project</td>\n",
       "      <td>1</td>\n",
       "      <td>reddit_comments_gender_female_processed_phrase...</td>\n",
       "    </tr>\n",
       "    <tr>\n",
       "      <th>2</th>\n",
       "      <td>i feel like this is some deep artistic dance t...</td>\n",
       "      <td>0</td>\n",
       "      <td>reddit_comments_gender_female_processed_phrase...</td>\n",
       "    </tr>\n",
       "    <tr>\n",
       "      <th>3</th>\n",
       "      <td>or biology over protective and smothering moth...</td>\n",
       "      <td>0</td>\n",
       "      <td>reddit_comments_gender_female_processed_phrase...</td>\n",
       "    </tr>\n",
       "    <tr>\n",
       "      <th>4</th>\n",
       "      <td>writing poetry to a girl is the fastest way to...</td>\n",
       "      <td>0</td>\n",
       "      <td>reddit_comments_gender_female_processed_phrase...</td>\n",
       "    </tr>\n",
       "    <tr>\n",
       "      <th>...</th>\n",
       "      <td>...</td>\n",
       "      <td>...</td>\n",
       "      <td>...</td>\n",
       "    </tr>\n",
       "    <tr>\n",
       "      <th>10563</th>\n",
       "      <td>saying that a muslim is violent because they d...</td>\n",
       "      <td>0</td>\n",
       "      <td>reddit_comments_religion2_muslims_processed_ph...</td>\n",
       "    </tr>\n",
       "    <tr>\n",
       "      <th>10565</th>\n",
       "      <td>funny that a muslim is talking about other rel...</td>\n",
       "      <td>1</td>\n",
       "      <td>reddit_comments_religion2_muslims_processed_ph...</td>\n",
       "    </tr>\n",
       "    <tr>\n",
       "      <th>10568</th>\n",
       "      <td>a good muslim is a violent racist homophobic o...</td>\n",
       "      <td>1</td>\n",
       "      <td>reddit_comments_religion2_muslims_processed_ph...</td>\n",
       "    </tr>\n",
       "    <tr>\n",
       "      <th>10575</th>\n",
       "      <td>yeah no muslim is violent</td>\n",
       "      <td>0</td>\n",
       "      <td>reddit_comments_religion2_muslims_processed_ph...</td>\n",
       "    </tr>\n",
       "    <tr>\n",
       "      <th>10583</th>\n",
       "      <td>i never said every muslim is violent thats abs...</td>\n",
       "      <td>0</td>\n",
       "      <td>reddit_comments_religion2_muslims_processed_ph...</td>\n",
       "    </tr>\n",
       "  </tbody>\n",
       "</table>\n",
       "<p>11516 rows × 3 columns</p>\n",
       "</div>"
      ],
      "text/plain": [
       "                                                    text label  \\\n",
       "id                                                               \n",
       "0      im sorry this is happening for you at least yo...     0   \n",
       "1           their mothers are in on the joke art project     1   \n",
       "2      i feel like this is some deep artistic dance t...     0   \n",
       "3      or biology over protective and smothering moth...     0   \n",
       "4      writing poetry to a girl is the fastest way to...     0   \n",
       "...                                                  ...   ...   \n",
       "10563  saying that a muslim is violent because they d...     0   \n",
       "10565  funny that a muslim is talking about other rel...     1   \n",
       "10568  a good muslim is a violent racist homophobic o...     1   \n",
       "10575                          yeah no muslim is violent     0   \n",
       "10583  i never said every muslim is violent thats abs...     0   \n",
       "\n",
       "                                                category  \n",
       "id                                                        \n",
       "0      reddit_comments_gender_female_processed_phrase...  \n",
       "1      reddit_comments_gender_female_processed_phrase...  \n",
       "2      reddit_comments_gender_female_processed_phrase...  \n",
       "3      reddit_comments_gender_female_processed_phrase...  \n",
       "4      reddit_comments_gender_female_processed_phrase...  \n",
       "...                                                  ...  \n",
       "10563  reddit_comments_religion2_muslims_processed_ph...  \n",
       "10565  reddit_comments_religion2_muslims_processed_ph...  \n",
       "10568  reddit_comments_religion2_muslims_processed_ph...  \n",
       "10575  reddit_comments_religion2_muslims_processed_ph...  \n",
       "10583  reddit_comments_religion2_muslims_processed_ph...  \n",
       "\n",
       "[11516 rows x 3 columns]"
      ]
     },
     "execution_count": 14,
     "metadata": {},
     "output_type": "execute_result"
    }
   ],
   "source": [
    "df"
   ]
  },
  {
   "cell_type": "code",
   "execution_count": null,
   "metadata": {},
   "outputs": [],
   "source": []
  }
 ],
 "metadata": {
  "kernelspec": {
   "display_name": "Python 3 (ipykernel)",
   "language": "python",
   "name": "python3"
  },
  "language_info": {
   "codemirror_mode": {
    "name": "ipython",
    "version": 3
   },
   "file_extension": ".py",
   "mimetype": "text/x-python",
   "name": "python",
   "nbconvert_exporter": "python",
   "pygments_lexer": "ipython3",
   "version": "3.10.8"
  }
 },
 "nbformat": 4,
 "nbformat_minor": 1
}
