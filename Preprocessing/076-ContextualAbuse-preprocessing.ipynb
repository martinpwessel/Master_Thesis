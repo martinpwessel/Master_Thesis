{
 "cells": [
  {
   "cell_type": "markdown",
   "metadata": {},
   "source": [
    "**Contextual Abuse Dataset**\n",
    "\n",
    "```\n",
    "LABEL:\n",
    "0 - NON-BIASED\n",
    "1 - BIASED\n",
    "```\n",
    "\n",
    "MULTICLASS LABEL: `{\"Neutral\": 0, \"AffiliationDirectedAbuse\": 1, \"Slur\": 2, \"PersonDirectedAbuse\": 3, \"IdentityDirectedAbuse\": 4, \"CounterSpeech\": 5}`\n",
    "\n",
    "Made a comment length analysis: Average word count: 35 words\n",
    "Comments longer than 512 words:  69 (0.26%)\n",
    "Therefore did not split the comments up into sentences\n"
   ]
  },
  {
   "cell_type": "code",
   "execution_count": 1,
   "metadata": {},
   "outputs": [],
   "source": [
    "import os\n",
    "import sys\n",
    "import pandas as pd\n",
    "from prep_collection import PrepCollection as prep\n",
    "import json\n",
    "import numpy as np"
   ]
  },
  {
   "cell_type": "code",
   "execution_count": 4,
   "metadata": {
    "pycharm": {
     "name": "#%%\n"
    }
   },
   "outputs": [],
   "source": [
    "wdr_path = os.path.dirname(os.path.dirname(os.getcwd()))\n",
    "ds_raw_path = os.path.join(wdr_path + \"/Datasets/Text Level Bias/contextual abuse datasets/cad_v1_1.tsv\")"
   ]
  },
  {
   "cell_type": "code",
   "execution_count": 2,
   "metadata": {
    "pycharm": {
     "name": "#%%\n"
    }
   },
   "outputs": [],
   "source": [
    "def preprocess_contextualabuse(wdr_path, ds_raw_path):\n",
    "    #word_count = []\n",
    "    categories = {\"Neutral\": 0, \"AffiliationDirectedAbuse\": 1, \"Slur\": 2, \"PersonDirectedAbuse\": 3, \"IdentityDirectedAbuse\": 4, \"CounterSpeech\": 5}\n",
    "    with open(ds_raw_path, \"r\", errors='replace') as f:\n",
    "        file = f.readlines()\n",
    "    file_split = [ele.split(\"\\t\") for ele in file]\n",
    "    id = 0\n",
    "    ds_lst = []\n",
    "    for i in file_split[1:]:\n",
    "        text = i[-1]\n",
    "        #split_text = text.split(' ')\n",
    "        #if len(split_text) > 1:\n",
    "           # word_count.append(len(split_text)-1)\n",
    "        if i[9] == \"Neutral\":\n",
    "            label = 0\n",
    "        elif i[9] in [\"AffiliationDirectedAbuse\", \"Slur\", \"PersonDirectedAbuse\", \"IdentityDirectedAbuse\", \"CounterSpeech\"]:\n",
    "            label = 1\n",
    "        else:\n",
    "            print(i[9])\n",
    "            raise ValueError\n",
    "        multi_class_label = categories[i[9]]\n",
    "        ds_lst.append([id, prep.prepare_text(text), label, multi_class_label])\n",
    "        id += 1\n",
    "    df = pd.DataFrame(ds_lst, columns = ['id', 'text', 'label', 'category'])\n",
    "    df['text'].replace(' ', np.nan, inplace=True)\n",
    "    df = df.dropna()\n",
    "    df.to_csv(os.path.join(wdr_path + \"/Preprocessed_Datasets/076-ContextualAbuse.csv\"))"
   ]
  },
  {
   "cell_type": "code",
   "execution_count": 6,
   "metadata": {
    "pycharm": {
     "name": "#%%\n"
    }
   },
   "outputs": [],
   "source": [
    "preprocess_contextualabuse(wdr_path, ds_raw_path)"
   ]
  },
  {
   "cell_type": "code",
   "execution_count": null,
   "metadata": {},
   "outputs": [],
   "source": []
  }
 ],
 "metadata": {
  "kernelspec": {
   "display_name": "Python 3 (ipykernel)",
   "language": "python",
   "name": "python3"
  },
  "language_info": {
   "codemirror_mode": {
    "name": "ipython",
    "version": 3
   },
   "file_extension": ".py",
   "mimetype": "text/x-python",
   "name": "python",
   "nbconvert_exporter": "python",
   "pygments_lexer": "ipython3",
   "version": "3.10.8"
  }
 },
 "nbformat": 4,
 "nbformat_minor": 1
}
