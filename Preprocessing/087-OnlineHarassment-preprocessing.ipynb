{
 "cells": [
  {
   "cell_type": "markdown",
   "metadata": {},
   "source": [
    "**Online Harassment Corpus**\n",
    "\n",
    "Datasource: From Jennifer Goldbeck directly (need to sign term of use agreement before usage)\n",
    "\n",
    "`20427` Tweets with labels\n",
    "Dataset consists of ID CODE and Tweet\n",
    "CODE is N for Not-Harassment and H for Harassment\n",
    "\n",
    "```\n",
    "LABEL\n",
    "0: Not-Harassment\n",
    "1: Harassment\n",
    "```"
   ]
  },
  {
   "cell_type": "code",
   "execution_count": 1,
   "metadata": {},
   "outputs": [],
   "source": [
    "import os\n",
    "import sys\n",
    "import pandas as pd\n",
    "from prep_collection import PrepCollection as prep"
   ]
  },
  {
   "cell_type": "code",
   "execution_count": 2,
   "metadata": {
    "pycharm": {
     "name": "#%%\n"
    }
   },
   "outputs": [],
   "source": [
    "wdr_path = os.path.dirname(os.path.dirname(os.getcwd()))\n",
    "ds_raw_path = os.path.join(wdr_path + \"/Datasets/Hate Speech/Online Harassment Dataset/onlineHarassmentDataset.tdf\")"
   ]
  },
  {
   "cell_type": "code",
   "execution_count": 3,
   "metadata": {
    "pycharm": {
     "name": "#%%\n"
    }
   },
   "outputs": [],
   "source": [
    "def preprocess_online_harassment(wdr_path: str, ds_raw_path: str) -> None:\n",
    "    with open(ds_raw_path, errors= 'replace') as f:\n",
    "        file = f.readlines()\n",
    "        file_split = [ele.split(\"\\t\") for ele in file]\n",
    "    id = 0\n",
    "    ds = []\n",
    "    for i in file_split[1:]:\n",
    "        try:\n",
    "            if i[1] == \"H\":\n",
    "                label = 1\n",
    "                ds.append([id, prep.prepare_text(i[2]), label])\n",
    "            elif i[1] == \"N\":\n",
    "                label = 0\n",
    "                ds.append([id, prep.prepare_text(i[2]), label])\n",
    "            else:\n",
    "                if i[2] == \"H\":\n",
    "                    label = 1\n",
    "                    ds.append([id, prep.prepare_text(i[5]), label])\n",
    "                elif i[2] == \"N\":\n",
    "                    label = 0\n",
    "                    ds.append([id, prep.prepare_text(i[5]), label])\n",
    "                else:\n",
    "                    pass # Some entries don't have a label, checked all of them\n",
    "        except IndexError:\n",
    "            pass # There seem to be empty rows that otherwise run out of index\n",
    "        id += 1\n",
    "    df = pd.DataFrame(ds, columns= ['id', 'text', 'label'])\n",
    "    df.to_csv(os.path.join(wdr_path + \"/Preprocessed_Datasets/087-OnlineHarassment.csv\"))"
   ]
  },
  {
   "cell_type": "code",
   "execution_count": 5,
   "metadata": {
    "pycharm": {
     "name": "#%%\n"
    }
   },
   "outputs": [
    {
     "ename": "FileNotFoundError",
     "evalue": "[Errno 2] No such file or directory: '/home/user/docs/studium/ongoing/22-22/thesis/working_dir/Datasets/Hate Speech/Online Harassment Dataset/onlineHarassmentDataset.tdf'",
     "output_type": "error",
     "traceback": [
      "\u001b[0;31m---------------------------------------------------------------------------\u001b[0m",
      "\u001b[0;31mFileNotFoundError\u001b[0m                         Traceback (most recent call last)",
      "Cell \u001b[0;32mIn [5], line 1\u001b[0m\n\u001b[0;32m----> 1\u001b[0m preprocess_online_harassment(wdr_path, ds_raw_path)\n",
      "Cell \u001b[0;32mIn [2], line 2\u001b[0m, in \u001b[0;36mpreprocess_online_harassment\u001b[0;34m(wdr_path, ds_raw_path)\u001b[0m\n\u001b[1;32m      1\u001b[0m \u001b[38;5;28;01mdef\u001b[39;00m \u001b[38;5;21mpreprocess_online_harassment\u001b[39m(wdr_path: \u001b[38;5;28mstr\u001b[39m, ds_raw_path: \u001b[38;5;28mstr\u001b[39m) \u001b[38;5;241m-\u001b[39m\u001b[38;5;241m>\u001b[39m \u001b[38;5;28;01mNone\u001b[39;00m:\n\u001b[0;32m----> 2\u001b[0m     \u001b[38;5;28;01mwith\u001b[39;00m \u001b[38;5;28;43mopen\u001b[39;49m\u001b[43m(\u001b[49m\u001b[43mds_raw_path\u001b[49m\u001b[43m,\u001b[49m\u001b[43m \u001b[49m\u001b[43merrors\u001b[49m\u001b[38;5;241;43m=\u001b[39;49m\u001b[43m \u001b[49m\u001b[38;5;124;43m'\u001b[39;49m\u001b[38;5;124;43mreplace\u001b[39;49m\u001b[38;5;124;43m'\u001b[39;49m\u001b[43m)\u001b[49m \u001b[38;5;28;01mas\u001b[39;00m f:\n\u001b[1;32m      3\u001b[0m         file \u001b[38;5;241m=\u001b[39m f\u001b[38;5;241m.\u001b[39mreadlines()\n\u001b[1;32m      4\u001b[0m         file_split \u001b[38;5;241m=\u001b[39m [ele\u001b[38;5;241m.\u001b[39msplit(\u001b[38;5;124m\"\u001b[39m\u001b[38;5;130;01m\\t\u001b[39;00m\u001b[38;5;124m\"\u001b[39m) \u001b[38;5;28;01mfor\u001b[39;00m ele \u001b[38;5;129;01min\u001b[39;00m file]\n",
      "\u001b[0;31mFileNotFoundError\u001b[0m: [Errno 2] No such file or directory: '/home/user/docs/studium/ongoing/22-22/thesis/working_dir/Datasets/Hate Speech/Online Harassment Dataset/onlineHarassmentDataset.tdf'"
     ]
    }
   ],
   "source": [
    " preprocess_online_harassment(wdr_path, ds_raw_path)"
   ]
  },
  {
   "cell_type": "code",
   "execution_count": null,
   "metadata": {},
   "outputs": [],
   "source": []
  }
 ],
 "metadata": {
  "kernelspec": {
   "display_name": "Python 3 (ipykernel)",
   "language": "python",
   "name": "python3"
  },
  "language_info": {
   "codemirror_mode": {
    "name": "ipython",
    "version": 3
   },
   "file_extension": ".py",
   "mimetype": "text/x-python",
   "name": "python",
   "nbconvert_exporter": "python",
   "pygments_lexer": "ipython3",
   "version": "3.10.8"
  }
 },
 "nbformat": 4,
 "nbformat_minor": 1
}
