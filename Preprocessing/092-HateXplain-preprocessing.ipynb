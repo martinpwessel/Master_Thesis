{
 "cells": [
  {
   "cell_type": "markdown",
   "metadata": {},
   "source": [
    "**HateXplain Dataset**\n",
    "\n",
    "Three categories: NEUTRAL, HATESPEECH, OFFENSIVE\n",
    "\n",
    "Since it is used as a hatespeech dataset and offensive language usually does not consitute hatespeech, here only the hatespeech category was used in the binary classification as hatespeech.\n",
    "(Though this might be an open question for debate comparing it to the other datasets).\n",
    "\n",
    "There are alway three annotator votes given. Decided label based on Majority vote. For Multilabel they can be UNDECIDED.\n",
    "\n",
    "LABEL MUTLICLASS ('category'):\n",
    "0 - NEUTRAL\n",
    "1 - HATESPEECH\n",
    "2 - OFFENSIVE\n",
    "3 - UNDECIDED\n",
    "\n",
    "LABEL\n",
    "0 - NEUTRAL\n",
    "1 - HATESPEECH\n",
    "\n"
   ]
  },
  {
   "cell_type": "code",
   "execution_count": 1,
   "metadata": {},
   "outputs": [],
   "source": [
    "import os\n",
    "import sys\n",
    "import pandas as pd\n",
    "from prep_collection import PrepCollection as prep\n",
    "import json\n",
    "import numpy as np\n",
    "from collections import Counter"
   ]
  },
  {
   "cell_type": "code",
   "execution_count": 2,
   "metadata": {
    "pycharm": {
     "name": "#%%\n"
    }
   },
   "outputs": [],
   "source": [
    "wdr_path = os.path.dirname(os.path.dirname(os.getcwd()))\n",
    "ds_raw_path = os.path.join(wdr_path + \"/Datasets/Hate Speech/HateXplain/Data/dataset.json\")"
   ]
  },
  {
   "cell_type": "code",
   "execution_count": 3,
   "metadata": {
    "pycharm": {
     "name": "#%%\n"
    }
   },
   "outputs": [],
   "source": [
    "def preprocess_hatexplain(wdr_path, ds_raw_path):\n",
    "    with open(ds_raw_path, 'r') as f:\n",
    "        ds_json = json.load(f)\n",
    "\n",
    "    for key in ds_json.keys():\n",
    "        annotators = ds_json[key]['annotators']\n",
    "        slst = [ele['label'] for ele in annotators]\n",
    "        words_count = Counter(slst)\n",
    "        if words_count['normal'] >= 2:\n",
    "            label = 0\n",
    "            category = 0 # NEUTRAL\n",
    "        elif words_count['offensive'] >= 2:\n",
    "            label = 0\n",
    "            category = 2 # OFFENSIVE\n",
    "        elif words_count['hatespeech'] >= 2:\n",
    "            label = 1\n",
    "            category = 1 # HATESPEECH\n",
    "        else:\n",
    "            label = 0 # put it into category null since I didn't count offensive as hatespeech\n",
    "            category = 3 # UNDECIDED\n",
    "        ds_json[key]['label'] = label\n",
    "        ds_json[key]['category'] = category\n",
    "        ds_json[key]['text'] = \" \".join(ds_json[key]['post_tokens'])\n",
    "\n",
    "    df_hatexplain = pd.DataFrame(ds_json).transpose()\n",
    "    df = df_hatexplain.loc[:,['text', 'label', 'category']]\n",
    "    df['text'] = df['text'].apply(prep.prepare_text)\n",
    "    df['id'] = range(len(df))\n",
    "    df.to_csv(os.path.join(wdr_path + \"/Preprocessed_Datasets/092-HateXplain.csv\"))"
   ]
  },
  {
   "cell_type": "code",
   "execution_count": 4,
   "metadata": {
    "pycharm": {
     "name": "#%%\n"
    }
   },
   "outputs": [],
   "source": [
    "preprocess_hatexplain(wdr_path, ds_raw_path)"
   ]
  },
  {
   "cell_type": "code",
   "execution_count": null,
   "metadata": {},
   "outputs": [],
   "source": []
  }
 ],
 "metadata": {
  "kernelspec": {
   "display_name": "Python 3 (ipykernel)",
   "language": "python",
   "name": "python3"
  },
  "language_info": {
   "codemirror_mode": {
    "name": "ipython",
    "version": 3
   },
   "file_extension": ".py",
   "mimetype": "text/x-python",
   "name": "python",
   "nbconvert_exporter": "python",
   "pygments_lexer": "ipython3",
   "version": "3.10.8"
  }
 },
 "nbformat": 4,
 "nbformat_minor": 1
}
