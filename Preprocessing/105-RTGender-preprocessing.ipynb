{
 "cells": [
  {
   "cell_type": "markdown",
   "id": "cbe918ac",
   "metadata": {},
   "source": [
    "## 105 - rtgender\n",
    "\n",
    "\n",
    "The Dataset is split in original `post` and `response` files except for TED, where only responses to a talk are available.\n",
    "\n",
    "Annotations contain a `sentiment`, the (assumed or provided?) `gender` of the OP, the `data source`, as well as the referenced entity (depicted as `relevance`; holds the following values: `'Content', 'Irrelevant', 'Poster', 'ContentPoster'`).\n",
    "\n",
    "Dataset Size: `15353` post and responses (3,8MB) are manually annotated, while the majority of the data (5,6GB) remains unlabelled.\n",
    "\n",
    "\n",
    "CSV input format: `source,op_gender,post_text,response_text,sentiment,relevance`\n",
    "\n",
    "CSV output format: `id,text,label,category,source,op_gender,relevance`\n",
    "\n",
    "\n",
    "`sentiment` mapping to `(label, category)`:\n",
    "- 'Neutral': `(0,0)`\n",
    "- 'Positive': `(1,1)`\n",
    "- 'Negative': `(1,2)`\n",
    "- 'Mixed': `(1,3)`\n",
    "\n",
    "```\n",
    "Label:\n",
    "- 0: not biased\n",
    "- 1: biased\n",
    "```\n",
    "\n",
    "```\n",
    "Category\n",
    "- 0: neutral\n",
    "- 1: positive bias\n",
    "- 2: negative bias\n",
    "- 3: mixed\n",
    "```\n",
    "\n",
    "\n",
    "Other design decisions:\n",
    "- `text` contains both `post` (context) + `response`."
   ]
  },
  {
   "cell_type": "code",
   "execution_count": 147,
   "id": "9d21c54a",
   "metadata": {},
   "outputs": [],
   "source": [
    "import os\n",
    "import sys\n",
    "import pandas as pd\n",
    "from prep_collection import PrepCollection as prep"
   ]
  },
  {
   "cell_type": "code",
   "execution_count": 148,
   "id": "dd637d5f",
   "metadata": {},
   "outputs": [],
   "source": [
    "path_input_relative = \"/Datasets/Gender Bias/105-rtgender/annotations.csv\"\n",
    "path_output_relative = \"/Preprocessed_Datasets/105-rtgender.csv\""
   ]
  },
  {
   "cell_type": "code",
   "execution_count": 149,
   "id": "57fa025c",
   "metadata": {},
   "outputs": [],
   "source": [
    "wdr_path = os.path.dirname(os.path.dirname(os.getcwd()))\n",
    "df = pd.read_csv(os.path.join(wdr_path + path_input_relative))\n",
    "\n",
    "dict_label = {'Neutral' : 0, 'Positive' : 1, 'Negative' : 1, 'Mixed' : 1}\n",
    "dict_category = {'Neutral' : 0, 'Positive' : 1, 'Negative' : 2, 'Mixed' : 3}\n",
    "\n",
    "\n",
    "df['id'] = pd.DataFrame(range(len(df))) + 1\n",
    "df['text'] = df['post_text'].astype('string') + df['response_text'].astype('string')\n",
    "df['text'] = df['text'].apply(str).apply(prep.prepare_text)\n",
    "\n",
    "df['label'] = df['sentiment']\n",
    "df['category'] = df['sentiment']\n",
    "df['label'] = df['label'].map(dict_label)\n",
    "\n",
    "df = df.reindex(columns=['id','text','label','category','source','op_gender','relevance'])\n"
   ]
  },
  {
   "cell_type": "code",
   "execution_count": 150,
   "id": "69a302b9",
   "metadata": {},
   "outputs": [],
   "source": [
    "df.to_csv(wdr_path + path_output_relative)"
   ]
  }
 ],
 "metadata": {
  "kernelspec": {
   "display_name": "Python 3 (ipykernel)",
   "language": "python",
   "name": "python3"
  },
  "language_info": {
   "codemirror_mode": {
    "name": "ipython",
    "version": 3
   },
   "file_extension": ".py",
   "mimetype": "text/x-python",
   "name": "python",
   "nbconvert_exporter": "python",
   "pygments_lexer": "ipython3",
   "version": "3.10.7"
  }
 },
 "nbformat": 4,
 "nbformat_minor": 5
}
