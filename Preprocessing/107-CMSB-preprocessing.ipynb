{
 "cells": [
  {
   "cell_type": "markdown",
   "id": "cbe918ac",
   "metadata": {},
   "source": [
    "## 107 - ISEP Workplace Sexism\n",
    "\n",
    "\n",
    "- Link: [https://github.com/gesiscss/theory-driven-sexism-detection](https://github.com/gesiscss/theory-driven-sexism-detection)\n",
    "- Dataset Link: [https://search.gesis.org/research_data/SDN-10.7802-2251?doi=10.7802/2251](https://search.gesis.org/research_data/SDN-10.7802-2251?doi=10.7802/2251)\n",
    "- Dataset Size: `13634` sentences\n",
    "- Input format: `id,dataset,text,toxicity,sexist,of_id`\n",
    "- Output format: `id,text,label`\n",
    "- annotations: benevolent, hostile, other, callme, scales\n",
    "- re-annotated [dataset34] + others\n",
    "- partially manually annotated, crowdworkers\n",
    "\n",
    "\n",
    "- `sexist` is a float score between 0 and 1\n",
    "\n",
    "\n",
    "```\n",
    "label:\n",
    "- 0: not sexist\n",
    "- 1: sexist\n",
    "```\n",
    "\n",
    "output format: `'id','text','label','toxicity'`"
   ]
  },
  {
   "cell_type": "code",
   "execution_count": 1,
   "id": "9d21c54a",
   "metadata": {},
   "outputs": [],
   "source": [
    "import os\n",
    "import sys\n",
    "import pandas as pd\n",
    "from prep_collection import PrepCollection as prep"
   ]
  },
  {
   "cell_type": "code",
   "execution_count": 2,
   "id": "dd637d5f",
   "metadata": {},
   "outputs": [],
   "source": [
    "path_input_relative = \"/Datasets/Gender Bias/107-cmsb/sexism_annotations.csv\"\n",
    "path_input_relative = \"/Datasets/Gender Bias/107-cmsb/sexism_data.csv\"\n",
    "path_output_relative = \"/Preprocessed_Datasets/107-cmsb.csv\""
   ]
  },
  {
   "cell_type": "code",
   "execution_count": 3,
   "id": "57fa025c",
   "metadata": {},
   "outputs": [],
   "source": [
    "wdr_path = os.path.dirname(os.path.dirname(os.getcwd()))\n",
    "df = pd.read_csv(os.path.join(wdr_path + path_input_relative))\n",
    "\n",
    "replace_dict = {\n",
    "    False: 0,\n",
    "    True: 1\n",
    "}\n",
    "\n",
    "df['label'] = df['sexist'].replace(replace_dict)\n",
    "\n",
    "df['id'] = pd.DataFrame(range(len(df))) + 1\n",
    "df['text'] = df['text'].apply(str).apply(prep.prepare_text)\n",
    "df = df.reindex(columns=['id','text','label','toxicity'])"
   ]
  },
  {
   "cell_type": "code",
   "execution_count": 4,
   "id": "69a302b9",
   "metadata": {},
   "outputs": [],
   "source": [
    "df.to_csv(wdr_path + path_output_relative)"
   ]
  },
  {
   "cell_type": "code",
   "execution_count": null,
   "id": "f39914f1",
   "metadata": {},
   "outputs": [],
   "source": []
  }
 ],
 "metadata": {
  "kernelspec": {
   "display_name": "Python 3 (ipykernel)",
   "language": "python",
   "name": "python3"
  },
  "language_info": {
   "codemirror_mode": {
    "name": "ipython",
    "version": 3
   },
   "file_extension": ".py",
   "mimetype": "text/x-python",
   "name": "python",
   "nbconvert_exporter": "python",
   "pygments_lexer": "ipython3",
   "version": "3.10.8"
  }
 },
 "nbformat": 4,
 "nbformat_minor": 5
}
