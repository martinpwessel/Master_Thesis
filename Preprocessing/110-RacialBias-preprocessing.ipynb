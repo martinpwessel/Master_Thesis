{
 "cells": [
  {
   "cell_type": "markdown",
   "metadata": {},
   "source": [
    "**Racial Bias Dataset**\n",
    "\n",
    "Datasource: https://github.com/tgh499/racial_bias_twitter\n",
    "\n",
    "Note: Documentation and Datasources are unclear. No paper linked.\n",
    "A quick check through the annotations increased my doubts.\n",
    "\n",
    "Only `751` racist tweets.\n",
    "\n",
    "```\n",
    "Types of racism (CATEGORY):\n",
    "Ethnicity - 0\n",
    "Religion - 1\n",
    "SexualOrientation - 2\n",
    "OtherRacialBias - 3\n",
    "```\n",
    "```\n",
    "Polarity: (only my interpretation, no clear documentation)\n",
    "Negative - 0\n",
    "Neutral - 1\n",
    "Positive - 2\n",
    "```\n"
   ]
  },
  {
   "cell_type": "code",
   "execution_count": 2,
   "metadata": {},
   "outputs": [],
   "source": [
    "import os\n",
    "import sys\n",
    "import pandas as pd\n",
    "from prep_collection import PrepCollection as prep\n",
    "import json\n",
    "import numpy as np"
   ]
  },
  {
   "cell_type": "code",
   "execution_count": 3,
   "metadata": {
    "pycharm": {
     "name": "#%%\n"
    }
   },
   "outputs": [],
   "source": [
    "wdr_path = os.path.dirname(os.path.dirname(os.getcwd()))\n",
    "ds_raw_path = os.path.join(wdr_path + \"/Datasets/Racial Bias/racial_bias_twitter/\")"
   ]
  },
  {
   "cell_type": "code",
   "execution_count": 4,
   "metadata": {
    "pycharm": {
     "name": "#%%\n"
    }
   },
   "outputs": [],
   "source": [
    "def preprocessing_racialbias(wdr_path, ds_raw_path):\n",
    "    with open(os.path.join(ds_raw_path, 'groundTruth.csv'), 'r', errors= 'replace') as f:\n",
    "        ground_truth = pd.read_csv(f)\n",
    "        df = pd.DataFrame()\n",
    "    df['text'] = ground_truth['Tweet'].apply(prep.prepare_text)\n",
    "    df['label'] = 1\n",
    "    df['category'] = ground_truth['Type of Racism'] - 1\n",
    "    df['polarity'] = ground_truth['Polarity']\n",
    "    df['id'] = df.index\n",
    "    df.to_csv(os.path.join(wdr_path + \"/Preprocessed_Datasets/110-RacialBias.csv\"))\n",
    "    return df"
   ]
  },
  {
   "cell_type": "code",
   "execution_count": 6,
   "metadata": {
    "pycharm": {
     "name": "#%%\n"
    }
   },
   "outputs": [],
   "source": [
    "df = preprocessing_racialbias(wdr_path, ds_raw_path)"
   ]
  },
  {
   "cell_type": "code",
   "execution_count": null,
   "metadata": {},
   "outputs": [],
   "source": []
  }
 ],
 "metadata": {
  "kernelspec": {
   "display_name": "Python 3 (ipykernel)",
   "language": "python",
   "name": "python3"
  },
  "language_info": {
   "codemirror_mode": {
    "name": "ipython",
    "version": 3
   },
   "file_extension": ".py",
   "mimetype": "text/x-python",
   "name": "python",
   "nbconvert_exporter": "python",
   "pygments_lexer": "ipython3",
   "version": "3.10.7"
  }
 },
 "nbformat": 4,
 "nbformat_minor": 1
}
